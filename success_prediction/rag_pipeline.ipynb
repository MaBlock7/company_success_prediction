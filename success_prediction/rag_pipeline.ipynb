{
 "cells": [
  {
   "cell_type": "code",
   "execution_count": 1,
   "metadata": {},
   "outputs": [
    {
     "name": "stderr",
     "output_type": "stream",
     "text": [
      "\u001b[32m2025-05-07 17:36:55.458\u001b[0m | \u001b[1mINFO    \u001b[0m | \u001b[36msuccess_prediction.config\u001b[0m:\u001b[36m<module>\u001b[0m:\u001b[36m11\u001b[0m - \u001b[1mPROJ_ROOT path is: /Users/manuelbolz/Documents/git/for_work/company_success_prediction\u001b[0m\n"
     ]
    }
   ],
   "source": [
    "import gzip\n",
    "import json\n",
    "from dataclasses import dataclass\n",
    "from pathlib import Path\n",
    "from tqdm import tqdm\n",
    "\n",
    "from ftlangdetect import detect\n",
    "\n",
    "from success_prediction.rag_components.embeddings import EmbeddingCreator\n",
    "from success_prediction.rag_components.cleanup import MarkdownCleaner\n",
    "from success_prediction.vector_db.utils import DatabaseClient\n",
    "\n",
    "from success_prediction.config import RAW_DATA_DIR"
   ]
  },
  {
   "cell_type": "code",
   "execution_count": null,
   "metadata": {},
   "outputs": [],
   "source": [
    "@dataclass\n",
    "class Clients:\n",
    "    md_cleaner: MarkdownCleaner\n",
    "    embedding_creator: EmbeddingCreator\n",
    "    db_client: DatabaseClient\n",
    "\n",
    "\n",
    "def load_raw_file(file_path: Path):\n",
    "    \"\"\"\n",
    "    \"\"\"\n",
    "    with gzip.open(file_path, 'r') as f:\n",
    "        return json.load(f)\n",
    "\n",
    "\n",
    "def store_links(file_path: Path, data: dict):\n",
    "    \"\"\"\n",
    "    \"\"\"\n",
    "    with open(file_path, 'w', encoding='utf-8') as f:\n",
    "        return json.dump(data, f, ensure_ascii=False, indent=4)\n",
    "\n",
    "\n",
    "def structure_links(\n",
    "    ehraid: int,\n",
    "    links: list[dict],\n",
    "    email_addresses: set,\n",
    "    social_media: dict\n",
    ") -> dict:\n",
    "    \"\"\"\n",
    "    \"\"\"\n",
    "    for link in links:\n",
    "        base_domain = link.get('base_domain')\n",
    "        if '@' in link.get('text'):\n",
    "            email_addresses[ehraid]['emails'].add(link['text'])\n",
    "        elif base_domain == \"linkedin.com\":\n",
    "            social_media[ehraid]['linkedin'].add(link['href'])\n",
    "        elif base_domain == \"instagram.com\":\n",
    "            social_media[ehraid]['instagram'].add(link['href'])\n",
    "        elif base_domain == \"facebook.com\":\n",
    "            social_media[ehraid]['facebook'].add(link['href'])\n",
    "        elif base_domain == \"tiktok.com\":\n",
    "            social_media[ehraid]['tiktok'].add(link['href'])\n",
    "        elif base_domain == \"youtube.com\":\n",
    "            social_media[ehraid]['youtube'].add(link['href'])\n",
    "        elif base_domain == \"x.com\" or base_domain == \"twitter.com\":\n",
    "            social_media[ehraid]['x'].add(link['href'])\n",
    "    return email_addresses, social_media\n",
    "\n",
    "\n",
    "def run_pipeline(clients: Clients, idx: int, file_path: Path):\n",
    "    \"\"\"\n",
    "    \"\"\"\n",
    "    raw_json = load_raw_file(file_path)\n",
    "    processed_files = []\n",
    "    email_addresses, social_media = {}, {}\n",
    "\n",
    "    for ehraid, urls2attributes in tqdm(raw_json.items()):\n",
    "        email_addresses[ehraid] = {'emails': set()}\n",
    "        social_media[ehraid] = {k: set() for k in ['linkedin', 'instagram', 'facebook', 'tiktok', 'youtube', 'x']}\n",
    "\n",
    "        for url, attributes in urls2attributes.items():\n",
    "            markdown = attributes.get('markdown')\n",
    "            if not markdown:\n",
    "                continue\n",
    "\n",
    "            date = attributes['date']\n",
    "            internal_links = [link['href'] for link in attributes['links']['internal']]\n",
    "            external_links = [link['href'] for link in attributes['links']['external']]\n",
    "\n",
    "            email_addresses, social_media = structure_links(\n",
    "                ehraid, attributes['links']['external'], email_addresses, social_media)\n",
    "\n",
    "            markdown_clean = clients.md_cleaner.clean(markdown, internal_links, external_links)\n",
    "            if len(markdown_clean) <= 300:\n",
    "                continue\n",
    "            \n",
    "            # Detect language using the text without bracket content, since it includes\n",
    "            # English tokens such as INTERNAL_LINKS that might confuse the model\n",
    "            language = detect(text=clients.md_cleaner.remove_nested_brackets(markdown_clean).replace('\\n', ' '))\n",
    "\n",
    "            # Split the text into smaller chunks to fit into the model context + normalize whitespace per chunk\n",
    "            markdown_chunks = clients.embedding_creator.chunk(markdown_clean)\n",
    "            markdown_chunks_clean = [\n",
    "                clients.md_cleaner.normalize_whitespace(doc.page_content)\n",
    "                for doc in markdown_chunks\n",
    "            ]\n",
    "\n",
    "            query_embeddings = clients.embedding_creator.embed(\n",
    "                markdown_chunks_clean, prefix='query:')\n",
    "            \n",
    "            processed_files.extend([\n",
    "                {\n",
    "                    'ehraid': int(ehraid),\n",
    "                    'url': str(url),\n",
    "                    'date': date,\n",
    "                    'language': language.get('lang'),\n",
    "                    'text': md,\n",
    "                    'embedding': q_emb\n",
    "                }\n",
    "                for md, q_emb in zip(markdown_chunks_clean, query_embeddings)\n",
    "            ])\n",
    "\n",
    "        email_addresses[ehraid] = {k: list(v) for k, v in email_addresses[ehraid].items()}\n",
    "        social_media[ehraid] = {k: list(v) for k, v in social_media[ehraid].items()}\n",
    "\n",
    "    clients.db_client.insert_data(data=processed_files)\n",
    "\n",
    "    store_links(RAW_DATA_DIR / f'emails_{idx}.json', email_addresses)\n",
    "    store_links(RAW_DATA_DIR / f'social_media_{idx}.json', social_media)\n",
    "\n",
    "\n",
    "def main(clients: Clients, raw_files: list[Path]):\n",
    "    for i, file in enumerate(raw_files):\n",
    "        run_pipeline(clients, i, file)"
   ]
  },
  {
   "cell_type": "code",
   "execution_count": null,
   "metadata": {},
   "outputs": [
    {
     "name": "stdout",
     "output_type": "stream",
     "text": [
      "[EmbeddingCreator] Using model on `mps`.\n"
     ]
    },
    {
     "name": "stderr",
     "output_type": "stream",
     "text": [
      "/Users/manuelbolz/Documents/git/for_work/company_success_prediction/.venv/lib/python3.12/site-packages/tqdm/auto.py:21: TqdmWarning: IProgress not found. Please update jupyter and ipywidgets. See https://ipywidgets.readthedocs.io/en/stable/user_install.html\n",
      "  from .autonotebook import tqdm as notebook_tqdm\n",
      "100%|██████████| 498/498 [13:27<00:00,  1.62s/it]\n",
      "2025-05-07 17:50:29,732 [ERROR][handler]: RPC error: [insert_rows], <DataNotMatchException: (code=1, message=The Input data type is inconsistent with defined schema, {language} field should be a varchar, but got a {<class 'dict'>} instead.)>, <Time:{'RPC start': '2025-05-07 17:50:29.731459', 'RPC error': '2025-05-07 17:50:29.732173'}> (decorators.py:140)\n"
     ]
    },
    {
     "ename": "DataNotMatchException",
     "evalue": "<DataNotMatchException: (code=1, message=The Input data type is inconsistent with defined schema, {language} field should be a varchar, but got a {<class 'dict'>} instead.)>",
     "output_type": "error",
     "traceback": [
      "\u001b[31m---------------------------------------------------------------------------\u001b[39m",
      "\u001b[31mDataNotMatchException\u001b[39m                     Traceback (most recent call last)",
      "    \u001b[31m[... skipping hidden 1 frame]\u001b[39m\n",
      "\u001b[36mCell\u001b[39m\u001b[36m \u001b[39m\u001b[32mIn[3]\u001b[39m\u001b[32m, line 14\u001b[39m\n\u001b[32m     13\u001b[39m raw_files = [RAW_DATA_DIR / \u001b[33m'\u001b[39m\u001b[33mcompany_websites\u001b[39m\u001b[33m'\u001b[39m / \u001b[33m'\u001b[39m\u001b[33mcurrent\u001b[39m\u001b[33m'\u001b[39m / \u001b[33m'\u001b[39m\u001b[33m0_websites.json.gz\u001b[39m\u001b[33m'\u001b[39m]\n\u001b[32m---> \u001b[39m\u001b[32m14\u001b[39m \u001b[43mmain\u001b[49m\u001b[43m(\u001b[49m\u001b[43mclients\u001b[49m\u001b[43m,\u001b[49m\u001b[43m \u001b[49m\u001b[43mraw_files\u001b[49m\u001b[43m)\u001b[49m\n",
      "\u001b[36mCell\u001b[39m\u001b[36m \u001b[39m\u001b[32mIn[2]\u001b[39m\u001b[32m, line 116\u001b[39m, in \u001b[36mmain\u001b[39m\u001b[34m(clients, raw_files)\u001b[39m\n\u001b[32m    115\u001b[39m \u001b[38;5;28;01mfor\u001b[39;00m i, file \u001b[38;5;129;01min\u001b[39;00m \u001b[38;5;28menumerate\u001b[39m(raw_files):\n\u001b[32m--> \u001b[39m\u001b[32m116\u001b[39m     \u001b[43mrun_pipeline\u001b[49m\u001b[43m(\u001b[49m\u001b[43mclients\u001b[49m\u001b[43m,\u001b[49m\u001b[43m \u001b[49m\u001b[43mi\u001b[49m\u001b[43m,\u001b[49m\u001b[43m \u001b[49m\u001b[43mfile\u001b[49m\u001b[43m)\u001b[49m\n",
      "\u001b[36mCell\u001b[39m\u001b[36m \u001b[39m\u001b[32mIn[2]\u001b[39m\u001b[32m, line 108\u001b[39m, in \u001b[36mrun_pipeline\u001b[39m\u001b[34m(clients, idx, file_path)\u001b[39m\n\u001b[32m    106\u001b[39m     social_media[ehraid] = {k: \u001b[38;5;28mlist\u001b[39m(v) \u001b[38;5;28;01mfor\u001b[39;00m k, v \u001b[38;5;129;01min\u001b[39;00m social_media[ehraid].items()}\n\u001b[32m--> \u001b[39m\u001b[32m108\u001b[39m \u001b[43mclients\u001b[49m\u001b[43m.\u001b[49m\u001b[43mdb_client\u001b[49m\u001b[43m.\u001b[49m\u001b[43minsert_data\u001b[49m\u001b[43m(\u001b[49m\u001b[43mdata\u001b[49m\u001b[43m=\u001b[49m\u001b[43mprocessed_files\u001b[49m\u001b[43m)\u001b[49m\n\u001b[32m    110\u001b[39m store_links(RAW_DATA_DIR / \u001b[33mf\u001b[39m\u001b[33m'\u001b[39m\u001b[33memails_\u001b[39m\u001b[38;5;132;01m{\u001b[39;00midx\u001b[38;5;132;01m}\u001b[39;00m\u001b[33m.json\u001b[39m\u001b[33m'\u001b[39m, email_addresses)\n",
      "\u001b[36mFile \u001b[39m\u001b[32m~/Documents/git/for_work/company_success_prediction/success_prediction/vector_db/utils.py:39\u001b[39m, in \u001b[36mDatabaseClient.insert_data\u001b[39m\u001b[34m(self, data)\u001b[39m\n\u001b[32m     38\u001b[39m \u001b[38;5;28;01mdef\u001b[39;00m\u001b[38;5;250m \u001b[39m\u001b[34minsert_data\u001b[39m(\u001b[38;5;28mself\u001b[39m, data: \u001b[38;5;28mlist\u001b[39m[\u001b[38;5;28mdict\u001b[39m]) -> \u001b[38;5;28;01mNone\u001b[39;00m:\n\u001b[32m---> \u001b[39m\u001b[32m39\u001b[39m     \u001b[38;5;28;43mself\u001b[39;49m\u001b[43m.\u001b[49m\u001b[43mmilvus_client\u001b[49m\u001b[43m.\u001b[49m\u001b[43minsert\u001b[49m\u001b[43m(\u001b[49m\u001b[43mcollection_name\u001b[49m\u001b[43m=\u001b[49m\u001b[38;5;28;43mself\u001b[39;49m\u001b[43m.\u001b[49m\u001b[43mcollection_name\u001b[49m\u001b[43m,\u001b[49m\u001b[43m \u001b[49m\u001b[43mdata\u001b[49m\u001b[43m=\u001b[49m\u001b[43mdata\u001b[49m\u001b[43m)\u001b[49m\n",
      "\u001b[36mFile \u001b[39m\u001b[32m~/Documents/git/for_work/company_success_prediction/.venv/lib/python3.12/site-packages/pymilvus/milvus_client/milvus_client.py:232\u001b[39m, in \u001b[36mMilvusClient.insert\u001b[39m\u001b[34m(self, collection_name, data, timeout, partition_name, **kwargs)\u001b[39m\n\u001b[32m    231\u001b[39m \u001b[38;5;28;01mexcept\u001b[39;00m \u001b[38;5;167;01mException\u001b[39;00m \u001b[38;5;28;01mas\u001b[39;00m ex:\n\u001b[32m--> \u001b[39m\u001b[32m232\u001b[39m     \u001b[38;5;28;01mraise\u001b[39;00m ex \u001b[38;5;28;01mfrom\u001b[39;00m\u001b[38;5;250m \u001b[39m\u001b[34;01mex\u001b[39;00m\n\u001b[32m    233\u001b[39m \u001b[38;5;28;01mreturn\u001b[39;00m OmitZeroDict(\n\u001b[32m    234\u001b[39m     {\n\u001b[32m    235\u001b[39m         \u001b[33m\"\u001b[39m\u001b[33minsert_count\u001b[39m\u001b[33m\"\u001b[39m: res.insert_count,\n\u001b[32m   (...)\u001b[39m\u001b[32m    238\u001b[39m     }\n\u001b[32m    239\u001b[39m )\n",
      "\u001b[36mFile \u001b[39m\u001b[32m~/Documents/git/for_work/company_success_prediction/.venv/lib/python3.12/site-packages/pymilvus/milvus_client/milvus_client.py:228\u001b[39m, in \u001b[36mMilvusClient.insert\u001b[39m\u001b[34m(self, collection_name, data, timeout, partition_name, **kwargs)\u001b[39m\n\u001b[32m    227\u001b[39m \u001b[38;5;28;01mtry\u001b[39;00m:\n\u001b[32m--> \u001b[39m\u001b[32m228\u001b[39m     res = \u001b[43mconn\u001b[49m\u001b[43m.\u001b[49m\u001b[43minsert_rows\u001b[49m\u001b[43m(\u001b[49m\n\u001b[32m    229\u001b[39m \u001b[43m        \u001b[49m\u001b[43mcollection_name\u001b[49m\u001b[43m,\u001b[49m\u001b[43m \u001b[49m\u001b[43mdata\u001b[49m\u001b[43m,\u001b[49m\u001b[43m \u001b[49m\u001b[43mpartition_name\u001b[49m\u001b[43m=\u001b[49m\u001b[43mpartition_name\u001b[49m\u001b[43m,\u001b[49m\u001b[43m \u001b[49m\u001b[43mtimeout\u001b[49m\u001b[43m=\u001b[49m\u001b[43mtimeout\u001b[49m\n\u001b[32m    230\u001b[39m \u001b[43m    \u001b[49m\u001b[43m)\u001b[49m\n\u001b[32m    231\u001b[39m \u001b[38;5;28;01mexcept\u001b[39;00m \u001b[38;5;167;01mException\u001b[39;00m \u001b[38;5;28;01mas\u001b[39;00m ex:\n",
      "\u001b[36mFile \u001b[39m\u001b[32m~/Documents/git/for_work/company_success_prediction/.venv/lib/python3.12/site-packages/pymilvus/decorators.py:141\u001b[39m, in \u001b[36merror_handler.<locals>.wrapper.<locals>.handler\u001b[39m\u001b[34m(*args, **kwargs)\u001b[39m\n\u001b[32m    140\u001b[39m     LOGGER.error(\u001b[33mf\u001b[39m\u001b[33m\"\u001b[39m\u001b[33mRPC error: [\u001b[39m\u001b[38;5;132;01m{\u001b[39;00minner_name\u001b[38;5;132;01m}\u001b[39;00m\u001b[33m], \u001b[39m\u001b[38;5;132;01m{\u001b[39;00me\u001b[38;5;132;01m}\u001b[39;00m\u001b[33m, <Time:\u001b[39m\u001b[38;5;132;01m{\u001b[39;00mrecord_dict\u001b[38;5;132;01m}\u001b[39;00m\u001b[33m>\u001b[39m\u001b[33m\"\u001b[39m)\n\u001b[32m--> \u001b[39m\u001b[32m141\u001b[39m     \u001b[38;5;28;01mraise\u001b[39;00m e \u001b[38;5;28;01mfrom\u001b[39;00m\u001b[38;5;250m \u001b[39m\u001b[34;01me\u001b[39;00m\n\u001b[32m    142\u001b[39m \u001b[38;5;28;01mexcept\u001b[39;00m grpc.FutureTimeoutError \u001b[38;5;28;01mas\u001b[39;00m e:\n",
      "\u001b[36mFile \u001b[39m\u001b[32m~/Documents/git/for_work/company_success_prediction/.venv/lib/python3.12/site-packages/pymilvus/decorators.py:137\u001b[39m, in \u001b[36merror_handler.<locals>.wrapper.<locals>.handler\u001b[39m\u001b[34m(*args, **kwargs)\u001b[39m\n\u001b[32m    136\u001b[39m     record_dict[\u001b[33m\"\u001b[39m\u001b[33mRPC start\u001b[39m\u001b[33m\"\u001b[39m] = \u001b[38;5;28mstr\u001b[39m(datetime.datetime.now())\n\u001b[32m--> \u001b[39m\u001b[32m137\u001b[39m     \u001b[38;5;28;01mreturn\u001b[39;00m \u001b[43mfunc\u001b[49m\u001b[43m(\u001b[49m\u001b[43m*\u001b[49m\u001b[43margs\u001b[49m\u001b[43m,\u001b[49m\u001b[43m \u001b[49m\u001b[43m*\u001b[49m\u001b[43m*\u001b[49m\u001b[43mkwargs\u001b[49m\u001b[43m)\u001b[49m\n\u001b[32m    138\u001b[39m \u001b[38;5;28;01mexcept\u001b[39;00m MilvusException \u001b[38;5;28;01mas\u001b[39;00m e:\n",
      "\u001b[36mFile \u001b[39m\u001b[32m~/Documents/git/for_work/company_success_prediction/.venv/lib/python3.12/site-packages/pymilvus/decorators.py:176\u001b[39m, in \u001b[36mtracing_request.<locals>.wrapper.<locals>.handler\u001b[39m\u001b[34m(self, *args, **kwargs)\u001b[39m\n\u001b[32m    175\u001b[39m     \u001b[38;5;28mself\u001b[39m.set_onetime_request_id(req_id)\n\u001b[32m--> \u001b[39m\u001b[32m176\u001b[39m \u001b[38;5;28;01mreturn\u001b[39;00m \u001b[43mfunc\u001b[49m\u001b[43m(\u001b[49m\u001b[38;5;28;43mself\u001b[39;49m\u001b[43m,\u001b[49m\u001b[43m \u001b[49m\u001b[43m*\u001b[49m\u001b[43margs\u001b[49m\u001b[43m,\u001b[49m\u001b[43m \u001b[49m\u001b[43m*\u001b[49m\u001b[43m*\u001b[49m\u001b[43mkwargs\u001b[49m\u001b[43m)\u001b[49m\n",
      "\u001b[36mFile \u001b[39m\u001b[32m~/Documents/git/for_work/company_success_prediction/.venv/lib/python3.12/site-packages/pymilvus/decorators.py:116\u001b[39m, in \u001b[36mretry_on_rpc_failure.<locals>.wrapper.<locals>.handler\u001b[39m\u001b[34m(*args, **kwargs)\u001b[39m\n\u001b[32m    115\u001b[39m     \u001b[38;5;28;01melse\u001b[39;00m:\n\u001b[32m--> \u001b[39m\u001b[32m116\u001b[39m         \u001b[38;5;28;01mraise\u001b[39;00m e \u001b[38;5;28;01mfrom\u001b[39;00m\u001b[38;5;250m \u001b[39m\u001b[34;01me\u001b[39;00m\n\u001b[32m    117\u001b[39m \u001b[38;5;28;01mexcept\u001b[39;00m \u001b[38;5;167;01mException\u001b[39;00m \u001b[38;5;28;01mas\u001b[39;00m e:\n",
      "\u001b[36mFile \u001b[39m\u001b[32m~/Documents/git/for_work/company_success_prediction/.venv/lib/python3.12/site-packages/pymilvus/decorators.py:86\u001b[39m, in \u001b[36mretry_on_rpc_failure.<locals>.wrapper.<locals>.handler\u001b[39m\u001b[34m(*args, **kwargs)\u001b[39m\n\u001b[32m     85\u001b[39m \u001b[38;5;28;01mtry\u001b[39;00m:\n\u001b[32m---> \u001b[39m\u001b[32m86\u001b[39m     \u001b[38;5;28;01mreturn\u001b[39;00m \u001b[43mfunc\u001b[49m\u001b[43m(\u001b[49m\u001b[43m*\u001b[49m\u001b[43margs\u001b[49m\u001b[43m,\u001b[49m\u001b[43m \u001b[49m\u001b[43m*\u001b[49m\u001b[43m*\u001b[49m\u001b[43mkwargs\u001b[49m\u001b[43m)\u001b[49m\n\u001b[32m     87\u001b[39m \u001b[38;5;28;01mexcept\u001b[39;00m grpc.RpcError \u001b[38;5;28;01mas\u001b[39;00m e:\n\u001b[32m     88\u001b[39m     \u001b[38;5;66;03m# Do not retry on these codes\u001b[39;00m\n",
      "\u001b[36mFile \u001b[39m\u001b[32m~/Documents/git/for_work/company_success_prediction/.venv/lib/python3.12/site-packages/pymilvus/client/grpc_handler.py:529\u001b[39m, in \u001b[36mGrpcHandler.insert_rows\u001b[39m\u001b[34m(self, collection_name, entities, partition_name, schema, timeout, **kwargs)\u001b[39m\n\u001b[32m    519\u001b[39m \u001b[38;5;129m@retry_on_rpc_failure\u001b[39m()\n\u001b[32m    520\u001b[39m \u001b[38;5;28;01mdef\u001b[39;00m\u001b[38;5;250m \u001b[39m\u001b[34minsert_rows\u001b[39m(\n\u001b[32m    521\u001b[39m     \u001b[38;5;28mself\u001b[39m,\n\u001b[32m   (...)\u001b[39m\u001b[32m    527\u001b[39m     **kwargs,\n\u001b[32m    528\u001b[39m ):\n\u001b[32m--> \u001b[39m\u001b[32m529\u001b[39m     request = \u001b[38;5;28;43mself\u001b[39;49m\u001b[43m.\u001b[49m\u001b[43m_prepare_row_insert_request\u001b[49m\u001b[43m(\u001b[49m\n\u001b[32m    530\u001b[39m \u001b[43m        \u001b[49m\u001b[43mcollection_name\u001b[49m\u001b[43m,\u001b[49m\u001b[43m \u001b[49m\u001b[43mentities\u001b[49m\u001b[43m,\u001b[49m\u001b[43m \u001b[49m\u001b[43mpartition_name\u001b[49m\u001b[43m,\u001b[49m\u001b[43m \u001b[49m\u001b[43mschema\u001b[49m\u001b[43m,\u001b[49m\u001b[43m \u001b[49m\u001b[43mtimeout\u001b[49m\u001b[43m,\u001b[49m\u001b[43m \u001b[49m\u001b[43m*\u001b[49m\u001b[43m*\u001b[49m\u001b[43mkwargs\u001b[49m\n\u001b[32m    531\u001b[39m \u001b[43m    \u001b[49m\u001b[43m)\u001b[49m\n\u001b[32m    532\u001b[39m     resp = \u001b[38;5;28mself\u001b[39m._stub.Insert(request=request, timeout=timeout)\n",
      "\u001b[36mFile \u001b[39m\u001b[32m~/Documents/git/for_work/company_success_prediction/.venv/lib/python3.12/site-packages/pymilvus/client/grpc_handler.py:573\u001b[39m, in \u001b[36mGrpcHandler._prepare_row_insert_request\u001b[39m\u001b[34m(self, collection_name, entity_rows, partition_name, schema, timeout, **kwargs)\u001b[39m\n\u001b[32m    571\u001b[39m enable_dynamic = schema.get(\u001b[33m\"\u001b[39m\u001b[33menable_dynamic_field\u001b[39m\u001b[33m\"\u001b[39m, \u001b[38;5;28;01mFalse\u001b[39;00m)\n\u001b[32m--> \u001b[39m\u001b[32m573\u001b[39m \u001b[38;5;28;01mreturn\u001b[39;00m \u001b[43mPrepare\u001b[49m\u001b[43m.\u001b[49m\u001b[43mrow_insert_param\u001b[49m\u001b[43m(\u001b[49m\n\u001b[32m    574\u001b[39m \u001b[43m    \u001b[49m\u001b[43mcollection_name\u001b[49m\u001b[43m,\u001b[49m\n\u001b[32m    575\u001b[39m \u001b[43m    \u001b[49m\u001b[43mentity_rows\u001b[49m\u001b[43m,\u001b[49m\n\u001b[32m    576\u001b[39m \u001b[43m    \u001b[49m\u001b[43mpartition_name\u001b[49m\u001b[43m,\u001b[49m\n\u001b[32m    577\u001b[39m \u001b[43m    \u001b[49m\u001b[43mfields_info\u001b[49m\u001b[43m,\u001b[49m\n\u001b[32m    578\u001b[39m \u001b[43m    \u001b[49m\u001b[43menable_dynamic\u001b[49m\u001b[43m=\u001b[49m\u001b[43menable_dynamic\u001b[49m\u001b[43m,\u001b[49m\n\u001b[32m    579\u001b[39m \u001b[43m    \u001b[49m\u001b[43mschema_timestamp\u001b[49m\u001b[43m=\u001b[49m\u001b[43mschema_timestamp\u001b[49m\u001b[43m,\u001b[49m\n\u001b[32m    580\u001b[39m \u001b[43m\u001b[49m\u001b[43m)\u001b[49m\n",
      "\u001b[36mFile \u001b[39m\u001b[32m~/Documents/git/for_work/company_success_prediction/.venv/lib/python3.12/site-packages/pymilvus/client/prepare.py:625\u001b[39m, in \u001b[36mPrepare.row_insert_param\u001b[39m\u001b[34m(cls, collection_name, entities, partition_name, fields_info, schema_timestamp, enable_dynamic)\u001b[39m\n\u001b[32m    618\u001b[39m request = milvus_types.InsertRequest(\n\u001b[32m    619\u001b[39m     collection_name=collection_name,\n\u001b[32m    620\u001b[39m     partition_name=p_name,\n\u001b[32m    621\u001b[39m     num_rows=\u001b[38;5;28mlen\u001b[39m(entities),\n\u001b[32m    622\u001b[39m     schema_timestamp=schema_timestamp,\n\u001b[32m    623\u001b[39m )\n\u001b[32m--> \u001b[39m\u001b[32m625\u001b[39m \u001b[38;5;28;01mreturn\u001b[39;00m \u001b[38;5;28;43mcls\u001b[39;49m\u001b[43m.\u001b[49m\u001b[43m_parse_row_request\u001b[49m\u001b[43m(\u001b[49m\u001b[43mrequest\u001b[49m\u001b[43m,\u001b[49m\u001b[43m \u001b[49m\u001b[43mfields_info\u001b[49m\u001b[43m,\u001b[49m\u001b[43m \u001b[49m\u001b[43menable_dynamic\u001b[49m\u001b[43m,\u001b[49m\u001b[43m \u001b[49m\u001b[43mentities\u001b[49m\u001b[43m)\u001b[49m\n",
      "\u001b[36mFile \u001b[39m\u001b[32m~/Documents/git/for_work/company_success_prediction/.venv/lib/python3.12/site-packages/pymilvus/client/prepare.py:473\u001b[39m, in \u001b[36mPrepare._parse_row_request\u001b[39m\u001b[34m(request, fields_info, enable_dynamic, entities)\u001b[39m\n\u001b[32m    472\u001b[39m             field_data.valid_data.append(v \u001b[38;5;129;01mis\u001b[39;00m \u001b[38;5;129;01mnot\u001b[39;00m \u001b[38;5;28;01mNone\u001b[39;00m)\n\u001b[32m--> \u001b[39m\u001b[32m473\u001b[39m         \u001b[43mentity_helper\u001b[49m\u001b[43m.\u001b[49m\u001b[43mpack_field_value_to_field_data\u001b[49m\u001b[43m(\u001b[49m\u001b[43mv\u001b[49m\u001b[43m,\u001b[49m\u001b[43m \u001b[49m\u001b[43mfield_data\u001b[49m\u001b[43m,\u001b[49m\u001b[43m \u001b[49m\u001b[43mfield_info\u001b[49m\u001b[43m)\u001b[49m\n\u001b[32m    474\u001b[39m \u001b[38;5;28;01mfor\u001b[39;00m field \u001b[38;5;129;01min\u001b[39;00m input_fields_info:\n",
      "\u001b[36mFile \u001b[39m\u001b[32m~/Documents/git/for_work/company_success_prediction/.venv/lib/python3.12/site-packages/pymilvus/client/entity_helper.py:400\u001b[39m, in \u001b[36mpack_field_value_to_field_data\u001b[39m\u001b[34m(field_value, field_data, field_info)\u001b[39m\n\u001b[32m    399\u001b[39m     \u001b[38;5;28;01mexcept\u001b[39;00m (\u001b[38;5;167;01mTypeError\u001b[39;00m, \u001b[38;5;167;01mValueError\u001b[39;00m) \u001b[38;5;28;01mas\u001b[39;00m e:\n\u001b[32m--> \u001b[39m\u001b[32m400\u001b[39m         \u001b[38;5;28;01mraise\u001b[39;00m DataNotMatchException(\n\u001b[32m    401\u001b[39m             message=ExceptionsMessage.FieldDataInconsistent\n\u001b[32m    402\u001b[39m             % (field_name, \u001b[33m\"\u001b[39m\u001b[33mvarchar\u001b[39m\u001b[33m\"\u001b[39m, \u001b[38;5;28mtype\u001b[39m(field_value))\n\u001b[32m    403\u001b[39m         ) \u001b[38;5;28;01mfrom\u001b[39;00m\u001b[38;5;250m \u001b[39m\u001b[34;01me\u001b[39;00m\n\u001b[32m    404\u001b[39m \u001b[38;5;28;01melif\u001b[39;00m field_type == DataType.JSON:\n",
      "\u001b[31mDataNotMatchException\u001b[39m: <DataNotMatchException: (code=1, message=The Input data type is inconsistent with defined schema, {language} field should be a varchar, but got a {<class 'dict'>} instead.)>",
      "\nThe above exception was the direct cause of the following exception:\n",
      "\u001b[31mDataNotMatchException\u001b[39m                     Traceback (most recent call last)",
      "    \u001b[31m[... skipping hidden 1 frame]\u001b[39m\n",
      "\u001b[36mCell\u001b[39m\u001b[36m \u001b[39m\u001b[32mIn[3]\u001b[39m\u001b[32m, line 14\u001b[39m\n\u001b[32m     13\u001b[39m raw_files = [RAW_DATA_DIR / \u001b[33m'\u001b[39m\u001b[33mcompany_websites\u001b[39m\u001b[33m'\u001b[39m / \u001b[33m'\u001b[39m\u001b[33mcurrent\u001b[39m\u001b[33m'\u001b[39m / \u001b[33m'\u001b[39m\u001b[33m0_websites.json.gz\u001b[39m\u001b[33m'\u001b[39m]\n\u001b[32m---> \u001b[39m\u001b[32m14\u001b[39m \u001b[43mmain\u001b[49m\u001b[43m(\u001b[49m\u001b[43mclients\u001b[49m\u001b[43m,\u001b[49m\u001b[43m \u001b[49m\u001b[43mraw_files\u001b[49m\u001b[43m)\u001b[49m\n",
      "\u001b[36mCell\u001b[39m\u001b[36m \u001b[39m\u001b[32mIn[2]\u001b[39m\u001b[32m, line 116\u001b[39m, in \u001b[36mmain\u001b[39m\u001b[34m(clients, raw_files)\u001b[39m\n\u001b[32m    115\u001b[39m \u001b[38;5;28;01mfor\u001b[39;00m i, file \u001b[38;5;129;01min\u001b[39;00m \u001b[38;5;28menumerate\u001b[39m(raw_files):\n\u001b[32m--> \u001b[39m\u001b[32m116\u001b[39m     \u001b[43mrun_pipeline\u001b[49m\u001b[43m(\u001b[49m\u001b[43mclients\u001b[49m\u001b[43m,\u001b[49m\u001b[43m \u001b[49m\u001b[43mi\u001b[49m\u001b[43m,\u001b[49m\u001b[43m \u001b[49m\u001b[43mfile\u001b[49m\u001b[43m)\u001b[49m\n",
      "\u001b[36mCell\u001b[39m\u001b[36m \u001b[39m\u001b[32mIn[2]\u001b[39m\u001b[32m, line 108\u001b[39m, in \u001b[36mrun_pipeline\u001b[39m\u001b[34m(clients, idx, file_path)\u001b[39m\n\u001b[32m    106\u001b[39m     social_media[ehraid] = {k: \u001b[38;5;28mlist\u001b[39m(v) \u001b[38;5;28;01mfor\u001b[39;00m k, v \u001b[38;5;129;01min\u001b[39;00m social_media[ehraid].items()}\n\u001b[32m--> \u001b[39m\u001b[32m108\u001b[39m \u001b[43mclients\u001b[49m\u001b[43m.\u001b[49m\u001b[43mdb_client\u001b[49m\u001b[43m.\u001b[49m\u001b[43minsert_data\u001b[49m\u001b[43m(\u001b[49m\u001b[43mdata\u001b[49m\u001b[43m=\u001b[49m\u001b[43mprocessed_files\u001b[49m\u001b[43m)\u001b[49m\n\u001b[32m    110\u001b[39m store_links(RAW_DATA_DIR / \u001b[33mf\u001b[39m\u001b[33m'\u001b[39m\u001b[33memails_\u001b[39m\u001b[38;5;132;01m{\u001b[39;00midx\u001b[38;5;132;01m}\u001b[39;00m\u001b[33m.json\u001b[39m\u001b[33m'\u001b[39m, email_addresses)\n",
      "\u001b[36mFile \u001b[39m\u001b[32m~/Documents/git/for_work/company_success_prediction/success_prediction/vector_db/utils.py:39\u001b[39m, in \u001b[36mDatabaseClient.insert_data\u001b[39m\u001b[34m(self, data)\u001b[39m\n\u001b[32m     38\u001b[39m \u001b[38;5;28;01mdef\u001b[39;00m\u001b[38;5;250m \u001b[39m\u001b[34minsert_data\u001b[39m(\u001b[38;5;28mself\u001b[39m, data: \u001b[38;5;28mlist\u001b[39m[\u001b[38;5;28mdict\u001b[39m]) -> \u001b[38;5;28;01mNone\u001b[39;00m:\n\u001b[32m---> \u001b[39m\u001b[32m39\u001b[39m     \u001b[38;5;28;43mself\u001b[39;49m\u001b[43m.\u001b[49m\u001b[43mmilvus_client\u001b[49m\u001b[43m.\u001b[49m\u001b[43minsert\u001b[49m\u001b[43m(\u001b[49m\u001b[43mcollection_name\u001b[49m\u001b[43m=\u001b[49m\u001b[38;5;28;43mself\u001b[39;49m\u001b[43m.\u001b[49m\u001b[43mcollection_name\u001b[49m\u001b[43m,\u001b[49m\u001b[43m \u001b[49m\u001b[43mdata\u001b[49m\u001b[43m=\u001b[49m\u001b[43mdata\u001b[49m\u001b[43m)\u001b[49m\n",
      "\u001b[36mFile \u001b[39m\u001b[32m~/Documents/git/for_work/company_success_prediction/.venv/lib/python3.12/site-packages/pymilvus/milvus_client/milvus_client.py:232\u001b[39m, in \u001b[36mMilvusClient.insert\u001b[39m\u001b[34m(self, collection_name, data, timeout, partition_name, **kwargs)\u001b[39m\n\u001b[32m    231\u001b[39m \u001b[38;5;28;01mexcept\u001b[39;00m \u001b[38;5;167;01mException\u001b[39;00m \u001b[38;5;28;01mas\u001b[39;00m ex:\n\u001b[32m--> \u001b[39m\u001b[32m232\u001b[39m     \u001b[38;5;28;01mraise\u001b[39;00m ex \u001b[38;5;28;01mfrom\u001b[39;00m\u001b[38;5;250m \u001b[39m\u001b[34;01mex\u001b[39;00m\n\u001b[32m    233\u001b[39m \u001b[38;5;28;01mreturn\u001b[39;00m OmitZeroDict(\n\u001b[32m    234\u001b[39m     {\n\u001b[32m    235\u001b[39m         \u001b[33m\"\u001b[39m\u001b[33minsert_count\u001b[39m\u001b[33m\"\u001b[39m: res.insert_count,\n\u001b[32m   (...)\u001b[39m\u001b[32m    238\u001b[39m     }\n\u001b[32m    239\u001b[39m )\n",
      "\u001b[36mFile \u001b[39m\u001b[32m~/Documents/git/for_work/company_success_prediction/.venv/lib/python3.12/site-packages/pymilvus/milvus_client/milvus_client.py:228\u001b[39m, in \u001b[36mMilvusClient.insert\u001b[39m\u001b[34m(self, collection_name, data, timeout, partition_name, **kwargs)\u001b[39m\n\u001b[32m    227\u001b[39m \u001b[38;5;28;01mtry\u001b[39;00m:\n\u001b[32m--> \u001b[39m\u001b[32m228\u001b[39m     res = \u001b[43mconn\u001b[49m\u001b[43m.\u001b[49m\u001b[43minsert_rows\u001b[49m\u001b[43m(\u001b[49m\n\u001b[32m    229\u001b[39m \u001b[43m        \u001b[49m\u001b[43mcollection_name\u001b[49m\u001b[43m,\u001b[49m\u001b[43m \u001b[49m\u001b[43mdata\u001b[49m\u001b[43m,\u001b[49m\u001b[43m \u001b[49m\u001b[43mpartition_name\u001b[49m\u001b[43m=\u001b[49m\u001b[43mpartition_name\u001b[49m\u001b[43m,\u001b[49m\u001b[43m \u001b[49m\u001b[43mtimeout\u001b[49m\u001b[43m=\u001b[49m\u001b[43mtimeout\u001b[49m\n\u001b[32m    230\u001b[39m \u001b[43m    \u001b[49m\u001b[43m)\u001b[49m\n\u001b[32m    231\u001b[39m \u001b[38;5;28;01mexcept\u001b[39;00m \u001b[38;5;167;01mException\u001b[39;00m \u001b[38;5;28;01mas\u001b[39;00m ex:\n",
      "\u001b[36mFile \u001b[39m\u001b[32m~/Documents/git/for_work/company_success_prediction/.venv/lib/python3.12/site-packages/pymilvus/decorators.py:141\u001b[39m, in \u001b[36merror_handler.<locals>.wrapper.<locals>.handler\u001b[39m\u001b[34m(*args, **kwargs)\u001b[39m\n\u001b[32m    140\u001b[39m     LOGGER.error(\u001b[33mf\u001b[39m\u001b[33m\"\u001b[39m\u001b[33mRPC error: [\u001b[39m\u001b[38;5;132;01m{\u001b[39;00minner_name\u001b[38;5;132;01m}\u001b[39;00m\u001b[33m], \u001b[39m\u001b[38;5;132;01m{\u001b[39;00me\u001b[38;5;132;01m}\u001b[39;00m\u001b[33m, <Time:\u001b[39m\u001b[38;5;132;01m{\u001b[39;00mrecord_dict\u001b[38;5;132;01m}\u001b[39;00m\u001b[33m>\u001b[39m\u001b[33m\"\u001b[39m)\n\u001b[32m--> \u001b[39m\u001b[32m141\u001b[39m     \u001b[38;5;28;01mraise\u001b[39;00m e \u001b[38;5;28;01mfrom\u001b[39;00m\u001b[38;5;250m \u001b[39m\u001b[34;01me\u001b[39;00m\n\u001b[32m    142\u001b[39m \u001b[38;5;28;01mexcept\u001b[39;00m grpc.FutureTimeoutError \u001b[38;5;28;01mas\u001b[39;00m e:\n",
      "\u001b[36mFile \u001b[39m\u001b[32m~/Documents/git/for_work/company_success_prediction/.venv/lib/python3.12/site-packages/pymilvus/decorators.py:137\u001b[39m, in \u001b[36merror_handler.<locals>.wrapper.<locals>.handler\u001b[39m\u001b[34m(*args, **kwargs)\u001b[39m\n\u001b[32m    136\u001b[39m     record_dict[\u001b[33m\"\u001b[39m\u001b[33mRPC start\u001b[39m\u001b[33m\"\u001b[39m] = \u001b[38;5;28mstr\u001b[39m(datetime.datetime.now())\n\u001b[32m--> \u001b[39m\u001b[32m137\u001b[39m     \u001b[38;5;28;01mreturn\u001b[39;00m \u001b[43mfunc\u001b[49m\u001b[43m(\u001b[49m\u001b[43m*\u001b[49m\u001b[43margs\u001b[49m\u001b[43m,\u001b[49m\u001b[43m \u001b[49m\u001b[43m*\u001b[49m\u001b[43m*\u001b[49m\u001b[43mkwargs\u001b[49m\u001b[43m)\u001b[49m\n\u001b[32m    138\u001b[39m \u001b[38;5;28;01mexcept\u001b[39;00m MilvusException \u001b[38;5;28;01mas\u001b[39;00m e:\n",
      "\u001b[36mFile \u001b[39m\u001b[32m~/Documents/git/for_work/company_success_prediction/.venv/lib/python3.12/site-packages/pymilvus/decorators.py:176\u001b[39m, in \u001b[36mtracing_request.<locals>.wrapper.<locals>.handler\u001b[39m\u001b[34m(self, *args, **kwargs)\u001b[39m\n\u001b[32m    175\u001b[39m     \u001b[38;5;28mself\u001b[39m.set_onetime_request_id(req_id)\n\u001b[32m--> \u001b[39m\u001b[32m176\u001b[39m \u001b[38;5;28;01mreturn\u001b[39;00m \u001b[43mfunc\u001b[49m\u001b[43m(\u001b[49m\u001b[38;5;28;43mself\u001b[39;49m\u001b[43m,\u001b[49m\u001b[43m \u001b[49m\u001b[43m*\u001b[49m\u001b[43margs\u001b[49m\u001b[43m,\u001b[49m\u001b[43m \u001b[49m\u001b[43m*\u001b[49m\u001b[43m*\u001b[49m\u001b[43mkwargs\u001b[49m\u001b[43m)\u001b[49m\n",
      "\u001b[36mFile \u001b[39m\u001b[32m~/Documents/git/for_work/company_success_prediction/.venv/lib/python3.12/site-packages/pymilvus/decorators.py:116\u001b[39m, in \u001b[36mretry_on_rpc_failure.<locals>.wrapper.<locals>.handler\u001b[39m\u001b[34m(*args, **kwargs)\u001b[39m\n\u001b[32m    115\u001b[39m     \u001b[38;5;28;01melse\u001b[39;00m:\n\u001b[32m--> \u001b[39m\u001b[32m116\u001b[39m         \u001b[38;5;28;01mraise\u001b[39;00m e \u001b[38;5;28;01mfrom\u001b[39;00m\u001b[38;5;250m \u001b[39m\u001b[34;01me\u001b[39;00m\n\u001b[32m    117\u001b[39m \u001b[38;5;28;01mexcept\u001b[39;00m \u001b[38;5;167;01mException\u001b[39;00m \u001b[38;5;28;01mas\u001b[39;00m e:\n",
      "\u001b[36mFile \u001b[39m\u001b[32m~/Documents/git/for_work/company_success_prediction/.venv/lib/python3.12/site-packages/pymilvus/decorators.py:86\u001b[39m, in \u001b[36mretry_on_rpc_failure.<locals>.wrapper.<locals>.handler\u001b[39m\u001b[34m(*args, **kwargs)\u001b[39m\n\u001b[32m     85\u001b[39m \u001b[38;5;28;01mtry\u001b[39;00m:\n\u001b[32m---> \u001b[39m\u001b[32m86\u001b[39m     \u001b[38;5;28;01mreturn\u001b[39;00m \u001b[43mfunc\u001b[49m\u001b[43m(\u001b[49m\u001b[43m*\u001b[49m\u001b[43margs\u001b[49m\u001b[43m,\u001b[49m\u001b[43m \u001b[49m\u001b[43m*\u001b[49m\u001b[43m*\u001b[49m\u001b[43mkwargs\u001b[49m\u001b[43m)\u001b[49m\n\u001b[32m     87\u001b[39m \u001b[38;5;28;01mexcept\u001b[39;00m grpc.RpcError \u001b[38;5;28;01mas\u001b[39;00m e:\n\u001b[32m     88\u001b[39m     \u001b[38;5;66;03m# Do not retry on these codes\u001b[39;00m\n",
      "\u001b[36mFile \u001b[39m\u001b[32m~/Documents/git/for_work/company_success_prediction/.venv/lib/python3.12/site-packages/pymilvus/client/grpc_handler.py:529\u001b[39m, in \u001b[36mGrpcHandler.insert_rows\u001b[39m\u001b[34m(self, collection_name, entities, partition_name, schema, timeout, **kwargs)\u001b[39m\n\u001b[32m    519\u001b[39m \u001b[38;5;129m@retry_on_rpc_failure\u001b[39m()\n\u001b[32m    520\u001b[39m \u001b[38;5;28;01mdef\u001b[39;00m\u001b[38;5;250m \u001b[39m\u001b[34minsert_rows\u001b[39m(\n\u001b[32m    521\u001b[39m     \u001b[38;5;28mself\u001b[39m,\n\u001b[32m   (...)\u001b[39m\u001b[32m    527\u001b[39m     **kwargs,\n\u001b[32m    528\u001b[39m ):\n\u001b[32m--> \u001b[39m\u001b[32m529\u001b[39m     request = \u001b[38;5;28;43mself\u001b[39;49m\u001b[43m.\u001b[49m\u001b[43m_prepare_row_insert_request\u001b[49m\u001b[43m(\u001b[49m\n\u001b[32m    530\u001b[39m \u001b[43m        \u001b[49m\u001b[43mcollection_name\u001b[49m\u001b[43m,\u001b[49m\u001b[43m \u001b[49m\u001b[43mentities\u001b[49m\u001b[43m,\u001b[49m\u001b[43m \u001b[49m\u001b[43mpartition_name\u001b[49m\u001b[43m,\u001b[49m\u001b[43m \u001b[49m\u001b[43mschema\u001b[49m\u001b[43m,\u001b[49m\u001b[43m \u001b[49m\u001b[43mtimeout\u001b[49m\u001b[43m,\u001b[49m\u001b[43m \u001b[49m\u001b[43m*\u001b[49m\u001b[43m*\u001b[49m\u001b[43mkwargs\u001b[49m\n\u001b[32m    531\u001b[39m \u001b[43m    \u001b[49m\u001b[43m)\u001b[49m\n\u001b[32m    532\u001b[39m     resp = \u001b[38;5;28mself\u001b[39m._stub.Insert(request=request, timeout=timeout)\n",
      "\u001b[36mFile \u001b[39m\u001b[32m~/Documents/git/for_work/company_success_prediction/.venv/lib/python3.12/site-packages/pymilvus/client/grpc_handler.py:573\u001b[39m, in \u001b[36mGrpcHandler._prepare_row_insert_request\u001b[39m\u001b[34m(self, collection_name, entity_rows, partition_name, schema, timeout, **kwargs)\u001b[39m\n\u001b[32m    571\u001b[39m enable_dynamic = schema.get(\u001b[33m\"\u001b[39m\u001b[33menable_dynamic_field\u001b[39m\u001b[33m\"\u001b[39m, \u001b[38;5;28;01mFalse\u001b[39;00m)\n\u001b[32m--> \u001b[39m\u001b[32m573\u001b[39m \u001b[38;5;28;01mreturn\u001b[39;00m \u001b[43mPrepare\u001b[49m\u001b[43m.\u001b[49m\u001b[43mrow_insert_param\u001b[49m\u001b[43m(\u001b[49m\n\u001b[32m    574\u001b[39m \u001b[43m    \u001b[49m\u001b[43mcollection_name\u001b[49m\u001b[43m,\u001b[49m\n\u001b[32m    575\u001b[39m \u001b[43m    \u001b[49m\u001b[43mentity_rows\u001b[49m\u001b[43m,\u001b[49m\n\u001b[32m    576\u001b[39m \u001b[43m    \u001b[49m\u001b[43mpartition_name\u001b[49m\u001b[43m,\u001b[49m\n\u001b[32m    577\u001b[39m \u001b[43m    \u001b[49m\u001b[43mfields_info\u001b[49m\u001b[43m,\u001b[49m\n\u001b[32m    578\u001b[39m \u001b[43m    \u001b[49m\u001b[43menable_dynamic\u001b[49m\u001b[43m=\u001b[49m\u001b[43menable_dynamic\u001b[49m\u001b[43m,\u001b[49m\n\u001b[32m    579\u001b[39m \u001b[43m    \u001b[49m\u001b[43mschema_timestamp\u001b[49m\u001b[43m=\u001b[49m\u001b[43mschema_timestamp\u001b[49m\u001b[43m,\u001b[49m\n\u001b[32m    580\u001b[39m \u001b[43m\u001b[49m\u001b[43m)\u001b[49m\n",
      "\u001b[36mFile \u001b[39m\u001b[32m~/Documents/git/for_work/company_success_prediction/.venv/lib/python3.12/site-packages/pymilvus/client/prepare.py:625\u001b[39m, in \u001b[36mPrepare.row_insert_param\u001b[39m\u001b[34m(cls, collection_name, entities, partition_name, fields_info, schema_timestamp, enable_dynamic)\u001b[39m\n\u001b[32m    618\u001b[39m request = milvus_types.InsertRequest(\n\u001b[32m    619\u001b[39m     collection_name=collection_name,\n\u001b[32m    620\u001b[39m     partition_name=p_name,\n\u001b[32m    621\u001b[39m     num_rows=\u001b[38;5;28mlen\u001b[39m(entities),\n\u001b[32m    622\u001b[39m     schema_timestamp=schema_timestamp,\n\u001b[32m    623\u001b[39m )\n\u001b[32m--> \u001b[39m\u001b[32m625\u001b[39m \u001b[38;5;28;01mreturn\u001b[39;00m \u001b[38;5;28;43mcls\u001b[39;49m\u001b[43m.\u001b[49m\u001b[43m_parse_row_request\u001b[49m\u001b[43m(\u001b[49m\u001b[43mrequest\u001b[49m\u001b[43m,\u001b[49m\u001b[43m \u001b[49m\u001b[43mfields_info\u001b[49m\u001b[43m,\u001b[49m\u001b[43m \u001b[49m\u001b[43menable_dynamic\u001b[49m\u001b[43m,\u001b[49m\u001b[43m \u001b[49m\u001b[43mentities\u001b[49m\u001b[43m)\u001b[49m\n",
      "\u001b[36mFile \u001b[39m\u001b[32m~/Documents/git/for_work/company_success_prediction/.venv/lib/python3.12/site-packages/pymilvus/client/prepare.py:473\u001b[39m, in \u001b[36mPrepare._parse_row_request\u001b[39m\u001b[34m(request, fields_info, enable_dynamic, entities)\u001b[39m\n\u001b[32m    472\u001b[39m             field_data.valid_data.append(v \u001b[38;5;129;01mis\u001b[39;00m \u001b[38;5;129;01mnot\u001b[39;00m \u001b[38;5;28;01mNone\u001b[39;00m)\n\u001b[32m--> \u001b[39m\u001b[32m473\u001b[39m         \u001b[43mentity_helper\u001b[49m\u001b[43m.\u001b[49m\u001b[43mpack_field_value_to_field_data\u001b[49m\u001b[43m(\u001b[49m\u001b[43mv\u001b[49m\u001b[43m,\u001b[49m\u001b[43m \u001b[49m\u001b[43mfield_data\u001b[49m\u001b[43m,\u001b[49m\u001b[43m \u001b[49m\u001b[43mfield_info\u001b[49m\u001b[43m)\u001b[49m\n\u001b[32m    474\u001b[39m \u001b[38;5;28;01mfor\u001b[39;00m field \u001b[38;5;129;01min\u001b[39;00m input_fields_info:\n",
      "\u001b[36mFile \u001b[39m\u001b[32m~/Documents/git/for_work/company_success_prediction/.venv/lib/python3.12/site-packages/pymilvus/client/entity_helper.py:400\u001b[39m, in \u001b[36mpack_field_value_to_field_data\u001b[39m\u001b[34m(field_value, field_data, field_info)\u001b[39m\n\u001b[32m    399\u001b[39m     \u001b[38;5;28;01mexcept\u001b[39;00m (\u001b[38;5;167;01mTypeError\u001b[39;00m, \u001b[38;5;167;01mValueError\u001b[39;00m) \u001b[38;5;28;01mas\u001b[39;00m e:\n\u001b[32m--> \u001b[39m\u001b[32m400\u001b[39m         \u001b[38;5;28;01mraise\u001b[39;00m DataNotMatchException(\n\u001b[32m    401\u001b[39m             message=ExceptionsMessage.FieldDataInconsistent\n\u001b[32m    402\u001b[39m             % (field_name, \u001b[33m\"\u001b[39m\u001b[33mvarchar\u001b[39m\u001b[33m\"\u001b[39m, \u001b[38;5;28mtype\u001b[39m(field_value))\n\u001b[32m    403\u001b[39m         ) \u001b[38;5;28;01mfrom\u001b[39;00m\u001b[38;5;250m \u001b[39m\u001b[34;01me\u001b[39;00m\n\u001b[32m    404\u001b[39m \u001b[38;5;28;01melif\u001b[39;00m field_type == DataType.JSON:\n",
      "\u001b[31mDataNotMatchException\u001b[39m: <DataNotMatchException: (code=1, message=The Input data type is inconsistent with defined schema, {language} field should be a varchar, but got a {<class 'dict'>} instead.)>",
      "\nThe above exception was the direct cause of the following exception:\n",
      "\u001b[31mDataNotMatchException\u001b[39m                     Traceback (most recent call last)",
      "\u001b[36mCell\u001b[39m\u001b[36m \u001b[39m\u001b[32mIn[3]\u001b[39m\u001b[32m, line 14\u001b[39m\n\u001b[32m     12\u001b[39m \u001b[38;5;66;03m# raw_files = [file for file in Path(RAW_DATA_DIR).iterdir() if file.endswith('.json.gz')]\u001b[39;00m\n\u001b[32m     13\u001b[39m raw_files = [RAW_DATA_DIR / \u001b[33m'\u001b[39m\u001b[33mcompany_websites\u001b[39m\u001b[33m'\u001b[39m / \u001b[33m'\u001b[39m\u001b[33mcurrent\u001b[39m\u001b[33m'\u001b[39m / \u001b[33m'\u001b[39m\u001b[33m0_websites.json.gz\u001b[39m\u001b[33m'\u001b[39m]\n\u001b[32m---> \u001b[39m\u001b[32m14\u001b[39m \u001b[43mmain\u001b[49m\u001b[43m(\u001b[49m\u001b[43mclients\u001b[49m\u001b[43m,\u001b[49m\u001b[43m \u001b[49m\u001b[43mraw_files\u001b[49m\u001b[43m)\u001b[49m\n",
      "\u001b[36mCell\u001b[39m\u001b[36m \u001b[39m\u001b[32mIn[2]\u001b[39m\u001b[32m, line 116\u001b[39m, in \u001b[36mmain\u001b[39m\u001b[34m(clients, raw_files)\u001b[39m\n\u001b[32m    114\u001b[39m \u001b[38;5;28;01mdef\u001b[39;00m\u001b[38;5;250m \u001b[39m\u001b[34mmain\u001b[39m(clients: Clients, raw_files: \u001b[38;5;28mlist\u001b[39m[Path]):\n\u001b[32m    115\u001b[39m     \u001b[38;5;28;01mfor\u001b[39;00m i, file \u001b[38;5;129;01min\u001b[39;00m \u001b[38;5;28menumerate\u001b[39m(raw_files):\n\u001b[32m--> \u001b[39m\u001b[32m116\u001b[39m         \u001b[43mrun_pipeline\u001b[49m\u001b[43m(\u001b[49m\u001b[43mclients\u001b[49m\u001b[43m,\u001b[49m\u001b[43m \u001b[49m\u001b[43mi\u001b[49m\u001b[43m,\u001b[49m\u001b[43m \u001b[49m\u001b[43mfile\u001b[49m\u001b[43m)\u001b[49m\n",
      "\u001b[36mCell\u001b[39m\u001b[36m \u001b[39m\u001b[32mIn[2]\u001b[39m\u001b[32m, line 108\u001b[39m, in \u001b[36mrun_pipeline\u001b[39m\u001b[34m(clients, idx, file_path)\u001b[39m\n\u001b[32m    105\u001b[39m     email_addresses[ehraid] = {k: \u001b[38;5;28mlist\u001b[39m(v) \u001b[38;5;28;01mfor\u001b[39;00m k, v \u001b[38;5;129;01min\u001b[39;00m email_addresses[ehraid].items()}\n\u001b[32m    106\u001b[39m     social_media[ehraid] = {k: \u001b[38;5;28mlist\u001b[39m(v) \u001b[38;5;28;01mfor\u001b[39;00m k, v \u001b[38;5;129;01min\u001b[39;00m social_media[ehraid].items()}\n\u001b[32m--> \u001b[39m\u001b[32m108\u001b[39m \u001b[43mclients\u001b[49m\u001b[43m.\u001b[49m\u001b[43mdb_client\u001b[49m\u001b[43m.\u001b[49m\u001b[43minsert_data\u001b[49m\u001b[43m(\u001b[49m\u001b[43mdata\u001b[49m\u001b[43m=\u001b[49m\u001b[43mprocessed_files\u001b[49m\u001b[43m)\u001b[49m\n\u001b[32m    110\u001b[39m store_links(RAW_DATA_DIR / \u001b[33mf\u001b[39m\u001b[33m'\u001b[39m\u001b[33memails_\u001b[39m\u001b[38;5;132;01m{\u001b[39;00midx\u001b[38;5;132;01m}\u001b[39;00m\u001b[33m.json\u001b[39m\u001b[33m'\u001b[39m, email_addresses)\n\u001b[32m    111\u001b[39m store_links(RAW_DATA_DIR / \u001b[33mf\u001b[39m\u001b[33m'\u001b[39m\u001b[33msocial_media_\u001b[39m\u001b[38;5;132;01m{\u001b[39;00midx\u001b[38;5;132;01m}\u001b[39;00m\u001b[33m.json\u001b[39m\u001b[33m'\u001b[39m, social_media)\n",
      "\u001b[36mFile \u001b[39m\u001b[32m~/Documents/git/for_work/company_success_prediction/success_prediction/vector_db/utils.py:39\u001b[39m, in \u001b[36mDatabaseClient.insert_data\u001b[39m\u001b[34m(self, data)\u001b[39m\n\u001b[32m     38\u001b[39m \u001b[38;5;28;01mdef\u001b[39;00m\u001b[38;5;250m \u001b[39m\u001b[34minsert_data\u001b[39m(\u001b[38;5;28mself\u001b[39m, data: \u001b[38;5;28mlist\u001b[39m[\u001b[38;5;28mdict\u001b[39m]) -> \u001b[38;5;28;01mNone\u001b[39;00m:\n\u001b[32m---> \u001b[39m\u001b[32m39\u001b[39m     \u001b[38;5;28;43mself\u001b[39;49m\u001b[43m.\u001b[49m\u001b[43mmilvus_client\u001b[49m\u001b[43m.\u001b[49m\u001b[43minsert\u001b[49m\u001b[43m(\u001b[49m\u001b[43mcollection_name\u001b[49m\u001b[43m=\u001b[49m\u001b[38;5;28;43mself\u001b[39;49m\u001b[43m.\u001b[49m\u001b[43mcollection_name\u001b[49m\u001b[43m,\u001b[49m\u001b[43m \u001b[49m\u001b[43mdata\u001b[49m\u001b[43m=\u001b[49m\u001b[43mdata\u001b[49m\u001b[43m)\u001b[49m\n",
      "\u001b[36mFile \u001b[39m\u001b[32m~/Documents/git/for_work/company_success_prediction/.venv/lib/python3.12/site-packages/pymilvus/milvus_client/milvus_client.py:232\u001b[39m, in \u001b[36mMilvusClient.insert\u001b[39m\u001b[34m(self, collection_name, data, timeout, partition_name, **kwargs)\u001b[39m\n\u001b[32m    228\u001b[39m     res = conn.insert_rows(\n\u001b[32m    229\u001b[39m         collection_name, data, partition_name=partition_name, timeout=timeout\n\u001b[32m    230\u001b[39m     )\n\u001b[32m    231\u001b[39m \u001b[38;5;28;01mexcept\u001b[39;00m \u001b[38;5;167;01mException\u001b[39;00m \u001b[38;5;28;01mas\u001b[39;00m ex:\n\u001b[32m--> \u001b[39m\u001b[32m232\u001b[39m     \u001b[38;5;28;01mraise\u001b[39;00m ex \u001b[38;5;28;01mfrom\u001b[39;00m\u001b[38;5;250m \u001b[39m\u001b[34;01mex\u001b[39;00m\n\u001b[32m    233\u001b[39m \u001b[38;5;28;01mreturn\u001b[39;00m OmitZeroDict(\n\u001b[32m    234\u001b[39m     {\n\u001b[32m    235\u001b[39m         \u001b[33m\"\u001b[39m\u001b[33minsert_count\u001b[39m\u001b[33m\"\u001b[39m: res.insert_count,\n\u001b[32m   (...)\u001b[39m\u001b[32m    238\u001b[39m     }\n\u001b[32m    239\u001b[39m )\n",
      "\u001b[36mFile \u001b[39m\u001b[32m~/Documents/git/for_work/company_success_prediction/.venv/lib/python3.12/site-packages/pymilvus/milvus_client/milvus_client.py:228\u001b[39m, in \u001b[36mMilvusClient.insert\u001b[39m\u001b[34m(self, collection_name, data, timeout, partition_name, **kwargs)\u001b[39m\n\u001b[32m    226\u001b[39m \u001b[38;5;66;03m# Insert into the collection.\u001b[39;00m\n\u001b[32m    227\u001b[39m \u001b[38;5;28;01mtry\u001b[39;00m:\n\u001b[32m--> \u001b[39m\u001b[32m228\u001b[39m     res = \u001b[43mconn\u001b[49m\u001b[43m.\u001b[49m\u001b[43minsert_rows\u001b[49m\u001b[43m(\u001b[49m\n\u001b[32m    229\u001b[39m \u001b[43m        \u001b[49m\u001b[43mcollection_name\u001b[49m\u001b[43m,\u001b[49m\u001b[43m \u001b[49m\u001b[43mdata\u001b[49m\u001b[43m,\u001b[49m\u001b[43m \u001b[49m\u001b[43mpartition_name\u001b[49m\u001b[43m=\u001b[49m\u001b[43mpartition_name\u001b[49m\u001b[43m,\u001b[49m\u001b[43m \u001b[49m\u001b[43mtimeout\u001b[49m\u001b[43m=\u001b[49m\u001b[43mtimeout\u001b[49m\n\u001b[32m    230\u001b[39m \u001b[43m    \u001b[49m\u001b[43m)\u001b[49m\n\u001b[32m    231\u001b[39m \u001b[38;5;28;01mexcept\u001b[39;00m \u001b[38;5;167;01mException\u001b[39;00m \u001b[38;5;28;01mas\u001b[39;00m ex:\n\u001b[32m    232\u001b[39m     \u001b[38;5;28;01mraise\u001b[39;00m ex \u001b[38;5;28;01mfrom\u001b[39;00m\u001b[38;5;250m \u001b[39m\u001b[34;01mex\u001b[39;00m\n",
      "\u001b[36mFile \u001b[39m\u001b[32m~/Documents/git/for_work/company_success_prediction/.venv/lib/python3.12/site-packages/pymilvus/decorators.py:141\u001b[39m, in \u001b[36merror_handler.<locals>.wrapper.<locals>.handler\u001b[39m\u001b[34m(*args, **kwargs)\u001b[39m\n\u001b[32m    139\u001b[39m     record_dict[\u001b[33m\"\u001b[39m\u001b[33mRPC error\u001b[39m\u001b[33m\"\u001b[39m] = \u001b[38;5;28mstr\u001b[39m(datetime.datetime.now())\n\u001b[32m    140\u001b[39m     LOGGER.error(\u001b[33mf\u001b[39m\u001b[33m\"\u001b[39m\u001b[33mRPC error: [\u001b[39m\u001b[38;5;132;01m{\u001b[39;00minner_name\u001b[38;5;132;01m}\u001b[39;00m\u001b[33m], \u001b[39m\u001b[38;5;132;01m{\u001b[39;00me\u001b[38;5;132;01m}\u001b[39;00m\u001b[33m, <Time:\u001b[39m\u001b[38;5;132;01m{\u001b[39;00mrecord_dict\u001b[38;5;132;01m}\u001b[39;00m\u001b[33m>\u001b[39m\u001b[33m\"\u001b[39m)\n\u001b[32m--> \u001b[39m\u001b[32m141\u001b[39m     \u001b[38;5;28;01mraise\u001b[39;00m e \u001b[38;5;28;01mfrom\u001b[39;00m\u001b[38;5;250m \u001b[39m\u001b[34;01me\u001b[39;00m\n\u001b[32m    142\u001b[39m \u001b[38;5;28;01mexcept\u001b[39;00m grpc.FutureTimeoutError \u001b[38;5;28;01mas\u001b[39;00m e:\n\u001b[32m    143\u001b[39m     record_dict[\u001b[33m\"\u001b[39m\u001b[33mgRPC timeout\u001b[39m\u001b[33m\"\u001b[39m] = \u001b[38;5;28mstr\u001b[39m(datetime.datetime.now())\n",
      "\u001b[36mFile \u001b[39m\u001b[32m~/Documents/git/for_work/company_success_prediction/.venv/lib/python3.12/site-packages/pymilvus/decorators.py:137\u001b[39m, in \u001b[36merror_handler.<locals>.wrapper.<locals>.handler\u001b[39m\u001b[34m(*args, **kwargs)\u001b[39m\n\u001b[32m    135\u001b[39m \u001b[38;5;28;01mtry\u001b[39;00m:\n\u001b[32m    136\u001b[39m     record_dict[\u001b[33m\"\u001b[39m\u001b[33mRPC start\u001b[39m\u001b[33m\"\u001b[39m] = \u001b[38;5;28mstr\u001b[39m(datetime.datetime.now())\n\u001b[32m--> \u001b[39m\u001b[32m137\u001b[39m     \u001b[38;5;28;01mreturn\u001b[39;00m \u001b[43mfunc\u001b[49m\u001b[43m(\u001b[49m\u001b[43m*\u001b[49m\u001b[43margs\u001b[49m\u001b[43m,\u001b[49m\u001b[43m \u001b[49m\u001b[43m*\u001b[49m\u001b[43m*\u001b[49m\u001b[43mkwargs\u001b[49m\u001b[43m)\u001b[49m\n\u001b[32m    138\u001b[39m \u001b[38;5;28;01mexcept\u001b[39;00m MilvusException \u001b[38;5;28;01mas\u001b[39;00m e:\n\u001b[32m    139\u001b[39m     record_dict[\u001b[33m\"\u001b[39m\u001b[33mRPC error\u001b[39m\u001b[33m\"\u001b[39m] = \u001b[38;5;28mstr\u001b[39m(datetime.datetime.now())\n",
      "\u001b[36mFile \u001b[39m\u001b[32m~/Documents/git/for_work/company_success_prediction/.venv/lib/python3.12/site-packages/pymilvus/decorators.py:176\u001b[39m, in \u001b[36mtracing_request.<locals>.wrapper.<locals>.handler\u001b[39m\u001b[34m(self, *args, **kwargs)\u001b[39m\n\u001b[32m    174\u001b[39m \u001b[38;5;28;01mif\u001b[39;00m req_id:\n\u001b[32m    175\u001b[39m     \u001b[38;5;28mself\u001b[39m.set_onetime_request_id(req_id)\n\u001b[32m--> \u001b[39m\u001b[32m176\u001b[39m \u001b[38;5;28;01mreturn\u001b[39;00m \u001b[43mfunc\u001b[49m\u001b[43m(\u001b[49m\u001b[38;5;28;43mself\u001b[39;49m\u001b[43m,\u001b[49m\u001b[43m \u001b[49m\u001b[43m*\u001b[49m\u001b[43margs\u001b[49m\u001b[43m,\u001b[49m\u001b[43m \u001b[49m\u001b[43m*\u001b[49m\u001b[43m*\u001b[49m\u001b[43mkwargs\u001b[49m\u001b[43m)\u001b[49m\n",
      "\u001b[36mFile \u001b[39m\u001b[32m~/Documents/git/for_work/company_success_prediction/.venv/lib/python3.12/site-packages/pymilvus/decorators.py:116\u001b[39m, in \u001b[36mretry_on_rpc_failure.<locals>.wrapper.<locals>.handler\u001b[39m\u001b[34m(*args, **kwargs)\u001b[39m\n\u001b[32m    114\u001b[39m         back_off = \u001b[38;5;28mmin\u001b[39m(back_off * back_off_multiplier, max_back_off)\n\u001b[32m    115\u001b[39m     \u001b[38;5;28;01melse\u001b[39;00m:\n\u001b[32m--> \u001b[39m\u001b[32m116\u001b[39m         \u001b[38;5;28;01mraise\u001b[39;00m e \u001b[38;5;28;01mfrom\u001b[39;00m\u001b[38;5;250m \u001b[39m\u001b[34;01me\u001b[39;00m\n\u001b[32m    117\u001b[39m \u001b[38;5;28;01mexcept\u001b[39;00m \u001b[38;5;167;01mException\u001b[39;00m \u001b[38;5;28;01mas\u001b[39;00m e:\n\u001b[32m    118\u001b[39m     \u001b[38;5;28;01mraise\u001b[39;00m e \u001b[38;5;28;01mfrom\u001b[39;00m\u001b[38;5;250m \u001b[39m\u001b[34;01me\u001b[39;00m\n",
      "\u001b[36mFile \u001b[39m\u001b[32m~/Documents/git/for_work/company_success_prediction/.venv/lib/python3.12/site-packages/pymilvus/decorators.py:86\u001b[39m, in \u001b[36mretry_on_rpc_failure.<locals>.wrapper.<locals>.handler\u001b[39m\u001b[34m(*args, **kwargs)\u001b[39m\n\u001b[32m     84\u001b[39m \u001b[38;5;28;01mwhile\u001b[39;00m \u001b[38;5;28;01mTrue\u001b[39;00m:\n\u001b[32m     85\u001b[39m     \u001b[38;5;28;01mtry\u001b[39;00m:\n\u001b[32m---> \u001b[39m\u001b[32m86\u001b[39m         \u001b[38;5;28;01mreturn\u001b[39;00m \u001b[43mfunc\u001b[49m\u001b[43m(\u001b[49m\u001b[43m*\u001b[49m\u001b[43margs\u001b[49m\u001b[43m,\u001b[49m\u001b[43m \u001b[49m\u001b[43m*\u001b[49m\u001b[43m*\u001b[49m\u001b[43mkwargs\u001b[49m\u001b[43m)\u001b[49m\n\u001b[32m     87\u001b[39m     \u001b[38;5;28;01mexcept\u001b[39;00m grpc.RpcError \u001b[38;5;28;01mas\u001b[39;00m e:\n\u001b[32m     88\u001b[39m         \u001b[38;5;66;03m# Do not retry on these codes\u001b[39;00m\n\u001b[32m     89\u001b[39m         \u001b[38;5;28;01mif\u001b[39;00m e.code() \u001b[38;5;129;01min\u001b[39;00m IGNORE_RETRY_CODES:\n",
      "\u001b[36mFile \u001b[39m\u001b[32m~/Documents/git/for_work/company_success_prediction/.venv/lib/python3.12/site-packages/pymilvus/client/grpc_handler.py:529\u001b[39m, in \u001b[36mGrpcHandler.insert_rows\u001b[39m\u001b[34m(self, collection_name, entities, partition_name, schema, timeout, **kwargs)\u001b[39m\n\u001b[32m    519\u001b[39m \u001b[38;5;129m@retry_on_rpc_failure\u001b[39m()\n\u001b[32m    520\u001b[39m \u001b[38;5;28;01mdef\u001b[39;00m\u001b[38;5;250m \u001b[39m\u001b[34minsert_rows\u001b[39m(\n\u001b[32m    521\u001b[39m     \u001b[38;5;28mself\u001b[39m,\n\u001b[32m   (...)\u001b[39m\u001b[32m    527\u001b[39m     **kwargs,\n\u001b[32m    528\u001b[39m ):\n\u001b[32m--> \u001b[39m\u001b[32m529\u001b[39m     request = \u001b[38;5;28;43mself\u001b[39;49m\u001b[43m.\u001b[49m\u001b[43m_prepare_row_insert_request\u001b[49m\u001b[43m(\u001b[49m\n\u001b[32m    530\u001b[39m \u001b[43m        \u001b[49m\u001b[43mcollection_name\u001b[49m\u001b[43m,\u001b[49m\u001b[43m \u001b[49m\u001b[43mentities\u001b[49m\u001b[43m,\u001b[49m\u001b[43m \u001b[49m\u001b[43mpartition_name\u001b[49m\u001b[43m,\u001b[49m\u001b[43m \u001b[49m\u001b[43mschema\u001b[49m\u001b[43m,\u001b[49m\u001b[43m \u001b[49m\u001b[43mtimeout\u001b[49m\u001b[43m,\u001b[49m\u001b[43m \u001b[49m\u001b[43m*\u001b[49m\u001b[43m*\u001b[49m\u001b[43mkwargs\u001b[49m\n\u001b[32m    531\u001b[39m \u001b[43m    \u001b[49m\u001b[43m)\u001b[49m\n\u001b[32m    532\u001b[39m     resp = \u001b[38;5;28mself\u001b[39m._stub.Insert(request=request, timeout=timeout)\n\u001b[32m    533\u001b[39m     \u001b[38;5;28;01mif\u001b[39;00m resp.status.error_code == common_pb2.SchemaMismatch:\n",
      "\u001b[36mFile \u001b[39m\u001b[32m~/Documents/git/for_work/company_success_prediction/.venv/lib/python3.12/site-packages/pymilvus/client/grpc_handler.py:573\u001b[39m, in \u001b[36mGrpcHandler._prepare_row_insert_request\u001b[39m\u001b[34m(self, collection_name, entity_rows, partition_name, schema, timeout, **kwargs)\u001b[39m\n\u001b[32m    570\u001b[39m fields_info = schema.get(\u001b[33m\"\u001b[39m\u001b[33mfields\u001b[39m\u001b[33m\"\u001b[39m)\n\u001b[32m    571\u001b[39m enable_dynamic = schema.get(\u001b[33m\"\u001b[39m\u001b[33menable_dynamic_field\u001b[39m\u001b[33m\"\u001b[39m, \u001b[38;5;28;01mFalse\u001b[39;00m)\n\u001b[32m--> \u001b[39m\u001b[32m573\u001b[39m \u001b[38;5;28;01mreturn\u001b[39;00m \u001b[43mPrepare\u001b[49m\u001b[43m.\u001b[49m\u001b[43mrow_insert_param\u001b[49m\u001b[43m(\u001b[49m\n\u001b[32m    574\u001b[39m \u001b[43m    \u001b[49m\u001b[43mcollection_name\u001b[49m\u001b[43m,\u001b[49m\n\u001b[32m    575\u001b[39m \u001b[43m    \u001b[49m\u001b[43mentity_rows\u001b[49m\u001b[43m,\u001b[49m\n\u001b[32m    576\u001b[39m \u001b[43m    \u001b[49m\u001b[43mpartition_name\u001b[49m\u001b[43m,\u001b[49m\n\u001b[32m    577\u001b[39m \u001b[43m    \u001b[49m\u001b[43mfields_info\u001b[49m\u001b[43m,\u001b[49m\n\u001b[32m    578\u001b[39m \u001b[43m    \u001b[49m\u001b[43menable_dynamic\u001b[49m\u001b[43m=\u001b[49m\u001b[43menable_dynamic\u001b[49m\u001b[43m,\u001b[49m\n\u001b[32m    579\u001b[39m \u001b[43m    \u001b[49m\u001b[43mschema_timestamp\u001b[49m\u001b[43m=\u001b[49m\u001b[43mschema_timestamp\u001b[49m\u001b[43m,\u001b[49m\n\u001b[32m    580\u001b[39m \u001b[43m\u001b[49m\u001b[43m)\u001b[49m\n",
      "\u001b[36mFile \u001b[39m\u001b[32m~/Documents/git/for_work/company_success_prediction/.venv/lib/python3.12/site-packages/pymilvus/client/prepare.py:625\u001b[39m, in \u001b[36mPrepare.row_insert_param\u001b[39m\u001b[34m(cls, collection_name, entities, partition_name, fields_info, schema_timestamp, enable_dynamic)\u001b[39m\n\u001b[32m    617\u001b[39m p_name = partition_name \u001b[38;5;28;01mif\u001b[39;00m \u001b[38;5;28misinstance\u001b[39m(partition_name, \u001b[38;5;28mstr\u001b[39m) \u001b[38;5;28;01melse\u001b[39;00m \u001b[33m\"\u001b[39m\u001b[33m\"\u001b[39m\n\u001b[32m    618\u001b[39m request = milvus_types.InsertRequest(\n\u001b[32m    619\u001b[39m     collection_name=collection_name,\n\u001b[32m    620\u001b[39m     partition_name=p_name,\n\u001b[32m    621\u001b[39m     num_rows=\u001b[38;5;28mlen\u001b[39m(entities),\n\u001b[32m    622\u001b[39m     schema_timestamp=schema_timestamp,\n\u001b[32m    623\u001b[39m )\n\u001b[32m--> \u001b[39m\u001b[32m625\u001b[39m \u001b[38;5;28;01mreturn\u001b[39;00m \u001b[38;5;28;43mcls\u001b[39;49m\u001b[43m.\u001b[49m\u001b[43m_parse_row_request\u001b[49m\u001b[43m(\u001b[49m\u001b[43mrequest\u001b[49m\u001b[43m,\u001b[49m\u001b[43m \u001b[49m\u001b[43mfields_info\u001b[49m\u001b[43m,\u001b[49m\u001b[43m \u001b[49m\u001b[43menable_dynamic\u001b[49m\u001b[43m,\u001b[49m\u001b[43m \u001b[49m\u001b[43mentities\u001b[49m\u001b[43m)\u001b[49m\n",
      "\u001b[36mFile \u001b[39m\u001b[32m~/Documents/git/for_work/company_success_prediction/.venv/lib/python3.12/site-packages/pymilvus/client/prepare.py:473\u001b[39m, in \u001b[36mPrepare._parse_row_request\u001b[39m\u001b[34m(request, fields_info, enable_dynamic, entities)\u001b[39m\n\u001b[32m    469\u001b[39m         \u001b[38;5;28;01mif\u001b[39;00m field_info.get(\u001b[33m\"\u001b[39m\u001b[33mnullable\u001b[39m\u001b[33m\"\u001b[39m, \u001b[38;5;28;01mFalse\u001b[39;00m) \u001b[38;5;129;01mor\u001b[39;00m field_info.get(\n\u001b[32m    470\u001b[39m             \u001b[33m\"\u001b[39m\u001b[33mdefault_value\u001b[39m\u001b[33m\"\u001b[39m, \u001b[38;5;28;01mNone\u001b[39;00m\n\u001b[32m    471\u001b[39m         ):\n\u001b[32m    472\u001b[39m             field_data.valid_data.append(v \u001b[38;5;129;01mis\u001b[39;00m \u001b[38;5;129;01mnot\u001b[39;00m \u001b[38;5;28;01mNone\u001b[39;00m)\n\u001b[32m--> \u001b[39m\u001b[32m473\u001b[39m         \u001b[43mentity_helper\u001b[49m\u001b[43m.\u001b[49m\u001b[43mpack_field_value_to_field_data\u001b[49m\u001b[43m(\u001b[49m\u001b[43mv\u001b[49m\u001b[43m,\u001b[49m\u001b[43m \u001b[49m\u001b[43mfield_data\u001b[49m\u001b[43m,\u001b[49m\u001b[43m \u001b[49m\u001b[43mfield_info\u001b[49m\u001b[43m)\u001b[49m\n\u001b[32m    474\u001b[39m \u001b[38;5;28;01mfor\u001b[39;00m field \u001b[38;5;129;01min\u001b[39;00m input_fields_info:\n\u001b[32m    475\u001b[39m     key = field[\u001b[33m\"\u001b[39m\u001b[33mname\u001b[39m\u001b[33m\"\u001b[39m]\n",
      "\u001b[36mFile \u001b[39m\u001b[32m~/Documents/git/for_work/company_success_prediction/.venv/lib/python3.12/site-packages/pymilvus/client/entity_helper.py:400\u001b[39m, in \u001b[36mpack_field_value_to_field_data\u001b[39m\u001b[34m(field_value, field_data, field_info)\u001b[39m\n\u001b[32m    396\u001b[39m             field_data.scalars.string_data.data.append(\n\u001b[32m    397\u001b[39m                 convert_to_str_array(field_value, field_info, CHECK_STR_ARRAY)\n\u001b[32m    398\u001b[39m             )\n\u001b[32m    399\u001b[39m     \u001b[38;5;28;01mexcept\u001b[39;00m (\u001b[38;5;167;01mTypeError\u001b[39;00m, \u001b[38;5;167;01mValueError\u001b[39;00m) \u001b[38;5;28;01mas\u001b[39;00m e:\n\u001b[32m--> \u001b[39m\u001b[32m400\u001b[39m         \u001b[38;5;28;01mraise\u001b[39;00m DataNotMatchException(\n\u001b[32m    401\u001b[39m             message=ExceptionsMessage.FieldDataInconsistent\n\u001b[32m    402\u001b[39m             % (field_name, \u001b[33m\"\u001b[39m\u001b[33mvarchar\u001b[39m\u001b[33m\"\u001b[39m, \u001b[38;5;28mtype\u001b[39m(field_value))\n\u001b[32m    403\u001b[39m         ) \u001b[38;5;28;01mfrom\u001b[39;00m\u001b[38;5;250m \u001b[39m\u001b[34;01me\u001b[39;00m\n\u001b[32m    404\u001b[39m \u001b[38;5;28;01melif\u001b[39;00m field_type == DataType.JSON:\n\u001b[32m    405\u001b[39m     \u001b[38;5;28;01mtry\u001b[39;00m:\n",
      "\u001b[31mDataNotMatchException\u001b[39m: <DataNotMatchException: (code=1, message=The Input data type is inconsistent with defined schema, {language} field should be a varchar, but got a {<class 'dict'>} instead.)>"
     ]
    }
   ],
   "source": [
    "if __name__ == '__main__':\n",
    "\n",
    "    init_args = {'dim': 768}\n",
    "\n",
    "    clients = Clients(\n",
    "        md_cleaner=MarkdownCleaner(),\n",
    "        embedding_creator=EmbeddingCreator(model_name='intfloat/multilingual-e5-base'),\n",
    "        db_client=DatabaseClient(**init_args)\n",
    "    )\n",
    "    clients.db_client.setup_database(replace=True)\n",
    "\n",
    "    # raw_files = [file for file in Path(RAW_DATA_DIR).iterdir() if file.endswith('.json.gz')]\n",
    "    raw_files = [RAW_DATA_DIR / 'company_websites' / 'current' / '0_websites.json.gz']\n",
    "    main(clients, raw_files)"
   ]
  },
  {
   "cell_type": "code",
   "execution_count": null,
   "metadata": {},
   "outputs": [],
   "source": []
  },
  {
   "cell_type": "code",
   "execution_count": 10,
   "metadata": {},
   "outputs": [],
   "source": [
    "db_client = DatabaseClient()\n",
    "company_data = db_client.query_by_ehraid(filter=\"ehraid == 1252082\")"
   ]
  },
  {
   "cell_type": "code",
   "execution_count": 11,
   "metadata": {},
   "outputs": [
    {
     "data": {
      "text/plain": [
       "data: []"
      ]
     },
     "execution_count": 11,
     "metadata": {},
     "output_type": "execute_result"
    }
   ],
   "source": [
    "company_data"
   ]
  }
 ],
 "metadata": {
  "kernelspec": {
   "display_name": ".venv",
   "language": "python",
   "name": "python3"
  },
  "language_info": {
   "codemirror_mode": {
    "name": "ipython",
    "version": 3
   },
   "file_extension": ".py",
   "mimetype": "text/x-python",
   "name": "python",
   "nbconvert_exporter": "python",
   "pygments_lexer": "ipython3",
   "version": "3.12.9"
  }
 },
 "nbformat": 4,
 "nbformat_minor": 2
}
