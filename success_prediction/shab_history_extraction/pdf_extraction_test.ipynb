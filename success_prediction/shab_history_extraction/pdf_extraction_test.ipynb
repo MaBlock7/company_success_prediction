{
 "cells": [
  {
   "cell_type": "code",
   "execution_count": 2,
   "metadata": {},
   "outputs": [],
   "source": [
    "from pdf2image import convert_from_path\n",
    "import pytesseract\n",
    "import re"
   ]
  },
  {
   "cell_type": "code",
   "execution_count": 3,
   "metadata": {},
   "outputs": [],
   "source": [
    "# Path to your PDF\n",
    "pdf_path = \"success_prediction/shab_history_extraction/sha-002_2015_133__12686_d.pdf\"\n",
    "\n",
    "# Convert PDF page to image\n",
    "pages = convert_from_path(pdf_path, dpi=300)  # higher dpi for better OCR"
   ]
  },
  {
   "cell_type": "code",
   "execution_count": 27,
   "metadata": {},
   "outputs": [],
   "source": [
    "test = pytesseract.image_to_string(pages[39], lang='deu')"
   ]
  },
  {
   "cell_type": "code",
   "execution_count": 28,
   "metadata": {},
   "outputs": [
    {
     "data": {
      "text/plain": [
       "'Die Gläubiger des Schuldners und alle Personen, die Ansprüche auf die\\nin seinem Besitz befindlichen Vermögensstücke haben, werden aufgefor-\\ndert, ihre Forderungen oder Ansprüche samt Beweismitteln (Schuld-\\nscheine, Buchauszüge usw.) innert der Eingabefrist dem betreffenden\\nKonkursamt einzureichen. Mit der Eröffnung des Konkurses hört gegen-\\nüber dem Schuldner der Zinsenlauf auf. Für pfandgesicherte Forderun-\\n‚gen läuft der Zins bis zur Verwertung weiter, soweit der Pfanderlös den\\nBetrag der Forderung und des bis zur Konkurseröffnung aufgelaufenen\\nZinses übersteigt (Art. 209 SchKG). Die Grundpfandgläubiger haben ihre\\nForderungen in Kapital, Zinsen und Kosten zerlegt anzumelden und\\ngleichzeitig auch anzugeben, ob die Kapitalforderung schon fällig oder\\ngekündigt sei, allfällig für welchen Betrag und auf welchen Termin. Die In-\\nhaber von Dienstbarkeiten, welche unter dem früheren kantonalen Recht\\n‚ohne Eintragung in die öffentlichen Bücher entstanden und noch nicht im\\nGrundbuch eingetragen sind, werden aufgefordert, diese Rechte innert\\n‚einem Monat beim betreffenden Konkursamt unter Einlegung allfälliger\\nBeweismittel anzumelden. Ist der Schuldner Miteigentümer oder Stock-\\nwerkeigentümer eines Grundstückes, gilt diese Aufforderung auch für sol-\\nche Dienstbarkeiten am Grundstück selbst. Die nicht angemeldeten\\nDienstbarkeiten können gegenüber einem gutgläubigen Erwerber des\\nbelasteten Grundstückes nicht mehr geltend gemacht werden, soweit es\\nsich nicht um Rechte handelt, die auch nach dem Zivilgesetzbuch ohne\\nEintragung in das Grundbuch dinglich wirksam sind. Desgleichen haben\\ndie Schuldner des Konkursiten sich binnen der Eingabefrist als solche an-\\nzumelden bei Straffolgen (Art. 324 Ziff.2 StGB) im Unterlassungsfalle.\\nPersonen, welche Sachen des Schuldners als Pfandgläubiger oder aus an-\\ndern Gründen besitzen, haben diese innert der gleichen Frist dem betref-\\nfenden Konkursamt zur Verfügung zu stellen. Es wird auf die Straffolge\\nbei Unterlassung (Art. 324 Ziff. 3 StGB) hingewiesen und darauf, dass das\\nVorzugsrecht erlischt, wenn die Meldung ungerechtfertigt unterbleibt. Die\\nPfandgläubiger sowie Drittpersonen, denen Pfandtitel auf den Liegen-\\nschaften des Gemeinschuldners weiterverpfändet worden sind, haben\\ndie Pfandtitel und Pfandverschreibungen innerhalb der gleichen Frist\\ndem Konkursamt einzureichen. Den Gläubigerversammlungen können\\nauch Mitschuldner und Bürgen des Schuldners sowie Gewährspflichtige\\nbeiwohnen. Für Beteiligte, die im Ausland wohnen, gilt das Konkursamt\\nals Zustellungsort, solange sie nicht einen anderen Zustellungsort in der\\nSchweiz bezeichnen. Im Falle einer vorläufigen Konkursanzeige wird auf\\nfolgende Rechtswirkungen hingewiesen: Schuldner des Konkursiten kön-\\nnen ihre Schulden nicht mehr durch Zahlung an den Konkursiten beglei-\\nchen; sie riskieren, zweimal bezahlen zu müssen. Ferner sind Personen,\\ndie Vermögensgegenstände des Konkursiten verwahren, unabhängig\\nvom Rechtstitel der Verwahrung verpflichtet, diese unverzüglich dem\\nKonkursamt herauszugeben.\\n\\nLes cr&anciers du failli et toutes les personnes qui ont des droits & faire\\nvaloir sur les biens en sa possession sont invits d produire dans les delais\\nimpartis leurs cr&ances ou leurs r&clamations, accompagndes de moyens\\nde preuve (reconnaissances de dettes, extraits de comptes, etc.) ä Office\\ndes faillites concerne. L\\'ouverture de la faillite arräte, & l\\'&gard du failli, le\\ncours des interets. Les int6r&ts des cr&ances garanties par gage continu-\\nent cependant ä courir jusqu\\'ä la realisation dans la mesure ou le produit\\ndu gage d&passe le montant de la cr&ance et des inter&ts Echus au mo-\\nment de l\\'ouverture de la faillite (art. 209, LP). Les titulaires de cr&ances\\n‚garanties par un gage immobilier doivent annoncer leurs cr&ances en in-\\ndiquant söpar&ment le capital, les interöts et les frais et faire savoir Egale-\\nment si le capital est &chu ou a &t€ denonc& au remboursement, pour\\nquel montant et pour quelle date. Les titulaires de servitudes n&es sous\\n!\\'empire de l\\'ancien droit cantonal sans inscription aux registres publics et\\nnon encore inscrites au registre foncier sont invits a produire leurs droits\\nal\\'office des faillites concerne dans un delai d\\'un mois, en y joignant les\\nmoyens de preuve. Si le debiteur est coproprietaire ou propristaire par\\netage d\\'un immeuble, cette invitation est valable &galement pour les ser-\\nvitudes grevant l\\'immeuble lui-m&me. Les servitudes qui n\\'auront pas &te&\\nannonc&es ne seront pas opposables a un acquereur de bonne foi de\\n!\\'immeuble greve, a moins qu\\'il ne s’agisse de droits qui, d’apres le Code\\ncivil &galement, produisent des effets de nature reelle m&me en l\\'absence\\nd’inscription au registre foncier. Les debiteurs du failli sont tenus de s\\'an-\\nnoncer a ce titre dans le delai fixe pour les productions, sous peine de\\npoursuite p&nale (art. 324 ch. 2 CP) en cas d\\'omission. Les personnes\\nqui detiennent des biens du failli en qualite de cr&anciers gagistes ou &\\nquelque titre que ce soit, sont tenues de les mettre ä la disposition de l\\'of-\\nfice des faillites concerne dans le delai imparti, faute de quoi ils encour-\\nront les peines prevues par la loi (art. 324 ch. 3 CP) et seront dechus de\\nleur droit de preference, en cas d’omission injustifiee. Les cr&anciers ga-\\ngistes et les tierces personnes qui detiennent des titres garantis par une\\nhypotheque sur les immeubles du failli sont tenus de remettre leurs titres\\näl\\'office dans le m&me delai. Les codebiteurs, cautions et autres garants\\ndu failli ont le droit d’assister aux assembl&es de cr&anders\\nLes notifications destinees aux interesses demeurant & l\\'&tranger leur se-\\nront adress6es ä l\\'office, tant qu\\'ils n\\'auront pas &lu un autre domicile de\\nnotification en Suisse. En ce qui concerne les avis prealables d\\'ouverture\\nde faillites, les debiteurs du failli sont rendus attentifs au fait qu\\'ils ne peu-\\nvent plus s\\'acquitter en mains du failli sous peine de devoir payer deux\\nfois, et ceux qui detiennent des biens du failli,  quelque titre que ce soit,\\nsont tenus de les mettre immediatement & la disposition de l\\'office des\\nfaillites.\\n\\nI creditori del fallito e tutti coloro che vantano pretese sui beni che sono\\nin suo possesso sono diffidati ad insinuare all\\'Ufficio dei fallimenti, entro\\niltermine fissato per le insinuazioni, i loro crediti o le loro pretese insieme\\ncon i mezzi di prova (riconoscimenti di debito, estratti di libri ecc.) in ori-\\nginale o in copia autentica. Dichiarato il fallimento, cessano di decorrere\\ngli interessi di tutti i crediti nei confronti del fallito. Tuttavia, gli interessi dei\\ncrediti garantiti da pegno continuano a decorrere sino alla realizzazione,\\nnella misura in cui il ricavo di questa sia superiore al debito, compresi gli\\ninteressi calcolati sino alla dichiarazione di fallimento (art. 209 LEF). |\\ncreditori ipotecari devono insinuare | loro crediti indicando separata-\\nmente il capitale, gli interessi e le spese; devono specificare anche se il\\ncredito & scaduto o se £ stato disdetto in tutto o in parte, per quale im-\\nporto e per quale data. | titolari di servitü, sorte sotto il vecchio diritto can-\\ntonale senza iscrizione e non ancora iscritte a registro, sono diffidati ad\\ninsinuare al rispettivo Ufficio dei fallimenti le loro pretese entro un mese\\ninsieme con gli eventuali mezzi di prova. Se il fallito & comproprietario o\\nproprietario di piano di un fondo, questa ingiunzione vale anche per talı\\nservitü relative al fondo stesso. Le servitu non insinuate non saranno op-\\nponibili ad un aggiudicatario di buona fede del fondo gravato, a meno\\nche si tratti di diritti che anche secondo il Codice civile hanno carattere di\\ndiritto reale senza iscrizione nel registro fondiario. I debitori del fallito\\nsono parimenti tenuti ad annunciarsi entro il termine per le insinuazioni,\\nrichiamate le conseguenze penali (art. 324 cifra 2 CP) in caso di inosser-\\nvanza. Chi detiene beni del fallito a titolo di pegno o per altro motivo deve\\nmetterli a disposizione dell\\'Ufficio dei fallimenti entro lo stesso termine,\\nsenza pregiudizio dei suoi diritti, ma sotto comminatoria di pena (art. 324\\ncifra 3 CP) e con l\\'awertenza che, ove l\\'omissione non fosse giustificata,\\nisuoi diritti di prelazione saranno estinti. Sempre entro lo stesso termine,\\ni creditori pignoratizi e tutti coloro che sono in possesso di titoli di pegno\\nimmobiliare sugli stabili del fallito sono tenuti a consegnarli all\\'Ufficio dei\\nfallimenti. Anche i condebitori, i fideiussori e gli obbligati in via di regresso\\ndel fallito hanno il diritto di partecipare alle assemblee dei creditori. Per\\ngli interessati residenti all’estero l’Ufficio dei fallimenti vale quale luogo\\nper la notificazione, fintanto che non ne venga designato un altro in Sviz-\\nzera. Per quanto concerne la pubblicazione del fallimento, i debitori del\\nfallito sono resi attenti al fatto che non possono piüı pagare al fallito, pena\\nil dover pagare due volte.\\n\\nMittwoch - Mercredi - Mercoledi, 07.01.2015, No 3, Jahrgang - annee - anno: 133 Konkurse - Faillites - Fallimenti\\n\\nSchluss des Konkursverfahrens\\nClöture de faillite\\nChiusura della procedura di fallimento\\n\\nSchKG - LP - LEF 268\\n\\n1. Schuldner/in: Bucher Stefan ‚ ausgeschlagene Erbschaft,\\nvon Ruswil, geboren 30.08.1980, gestorben 05.07.2014, whft.\\n‚gew. Schwanenstrasse 2, 5634 Merenschwand\\n\\n2. Datum des Schlusses: 22.12.2014\\n3. Bemerkungen: /la\\n\\nKonkursamt Aargau\\n\\nAmtsstelle Brugg\\n\\n5201 Brugg\\n01910387\\n\\nEinstellung des Konkursverfahrens\\nSuspension de la procedure de faillite\\nSospensione della procedura di fallimento\\n\\nSchKG - LP - LEF 230, 230a\\n\\nSchuldnerin: BS-BauFix AG, Kronenwiese 1163,\\n\\n9427 Wolfhalden AR\\n\\nKonkurseröffnung: 24.09.2014\\n\\nKonkurseinstellung: 17.12.2014\\n\\nFrist für Kostenvorschuss: 19.01.2015\\n\\nKostenvorschuss: CHF 5\\'000.00\\n\\nHinweis: Das Konkursverfahren wird als geschlossen erklärt,\\nfalls nicht ein Gläubiger innert der obgenannten Frist die\\nDurchführung verlangt und für die Deckung der Kosten den\\nerwähnten Vorschuss leistet. Die Nachforderung weiterer\\nKostenvorschüsse bleibt vorbehalten.\\n\\namp»\\n\\nKonkursamt des Kantons Appenzell Ausserrhoden\\nZweigstelle Heiden, Claudius Platzer, Konkursbeamter\\n9410 Heiden AR\\n\\n01914673\\n\\nKonkurspublikation/Schuldenruf\\n\\nPublication de faillite/appel aux cr&anciers\\nPubblicazione di fallimento/diffida ai creditori\\nSchKG 231, 232; VZG vom 23. April 1920, Art.29 und 123\\n\\nLP 231, 232; ORFI, du 23 avril 1920, art. 29 et 123\\nLEF 231, 232; RFF del 23 aprile 1920, art. 29 et 123\\n\\nSchuldner/in: Müller Roland, ausgeschlagene Verlas-\\nsenschaft, von Rohrbach BE, geboren 10.07.1961, gestorben\\n26.10.2013, whft. gew. Erlenweg 15a, 2503 Biel/Bienne\\nKonkurseröffnung: 10.12.2013\\n\\nVerfahren: summarisch\\n\\nEingabefrist für Forderungen: 08.02.2015\\n\\nBemerkungen: Wiedereröffnung infolge nachträglich ent-\\ndeckter Vermögenswerte\\n\\nMMARP\\n\\nKonkursamt Seeland, Dienststelle Seeland\\nOffice des faillites du Seeland, Agence du Seeland\\n2501 Biel/Bienne\\n\\n01900269\\n\\nSchuldner/in: Prathumto (-Rüfenacht) Lamduan, Staats-\\nbürgerschaft: Thailand, geboren 25.11.1965,\\nSolothurnstrasse 34, 2543 Lengnau BE\\nKonkurseröffnung: 27.11.2014\\nVerfahren: summarisch\\nEingabefrist für Forderungen: 08.02.2015\\nBemerkungen: Allfällige Eigentums- oder Drittansprachen\\nsind innert der Eingabefrist unter Vorlage der Beweismittel\\nbeim Konkursamt Seeland, Dienststelle Seeland, Biel,\\nschriftlich geltend zu machen. Die Forderungen sind durch\\ndie Gläubiger wie folgt einzeln einzugeben. Kapital, Zins\\nund Kosten, Valuta 27.11.2014, mit Beweismittel!\\nKonkursamt Seeland, Dienststelle Seeland\\nOffice des faillites du Seeland, Agence du Seeland\\n2501 Biel/Bienne\\n01880527\\n\\nLE En\\n\\n1. Schuldner/in: Alves Batista Fonseca Patricia Alexandra,\\nKinderbetreuerin, Staatsbürgerschaft: Portugal, geboren\\n18.11.1985, Talackerstrasse 23, 3604 Thun\\n\\n2. Konkurseröffnung: 27.10.2014\\n\\n3. Verfahren: summarisch\\nEingabefrist für Forderungen: 08.02.2015\\nKonkursamt Oberland\\nDienststelle Oberland\\n3800 Interlaken\\n\\n01839495\\n\\n1. Schuldner/in: Engel-Boss Hulda, ausgeschlagene Erb-\\nschaft, gew. Rentnerin, von Bowil BE, geboren 09.03.1943,\\ngestorben 10.10.2014, whft. gew. Stockhornstrasse 12,\\n3700 Spiez\\n\\nKonkurseröffnung: 27.11.2014\\n\\nVerfahren: summarisch\\n\\nEingabefrist für Forderungen: 08.02.2015\\nBemerkungen: Mit Aufenthalt: Solina Spiez.\\nKonkursamt Oberland\\n\\nDienststelle Oberland\\n\\n3800 Interlaken\\n\\n01892967\\n\\n\">»>sem\\n\\n1. Schuldner/in: Ritschard Raffael Eduard, Zeitungs- und\\nWerbeartikelzusteller, von Interlaken BE, geboren\\n25.07.1988, Kornweidliweg 3, 3700 Spiez\\n\\n.  Konkurseröffnung: 01.12.2014\\n\\n3. Verfahren: summarisch\\n\\nEingabefrist für Forderungen: 08.02.2015\\n\\nKonkursamt Oberland\\n\\nDienststelle Oberland\\n\\n3800 Interlaken\\n01858393\\n\\n1. Schuldner/in: Röthlisberger Christoph, Bauarbeiter, von\\nTrubschachen BE, geboren 03.11.1967,\\nHirzbodenportstrasse 1,3715 Adelboden\\n\\n2. Konkurseröffnung: 09.12.2014\\n\\n3. Verfahren: summarisch\\nEingabefrist für Forderungen: 08.02.2015\\n\\nKonkursamt Oberland\\n\\nDienststelle Oberland\\n\\n3800 Interlaken\\n01877631\\n\\n1. Schuldner/in: Herrmann Christian Urs Carl Josef, Pflege-\\nfachmann, von Baar, geboren 08.05.1978, Hambühlsgrat\\n293, 3534 Signau\\n\\n2. Konkurseröffnung: 03.12.2014\\n\\n3. Verfahren: summarisch\\nEingabefrist für Forderungen: 08.02.2015\\n\\nKonkursamt Emmental-Oberaargau\\nDienststelle Emmental-Oberaargau\\n4900 Langenthal\\n\\n01880341\\n\\n1. Debiteur/debitrice: Pretat Arsene, succession r&pudiee,\\n\\nde St-Brais/JU, ne(e) le 03.06.1951, decede(e) le 04.08.2014,\\nqv. dom. Champ-Faudin 8, 2740 Moutier\\n\\nDeclaration de faillite: 06.11.2014\\n\\nProcedure: sommaire\\n\\nDelai de production: 08.02.2015\\n\\nRemarques: Le failli/d&funt est proprietaire de l\\'immeuble\\nsuivant:\\n\\nBan de Moutier, feuillet no 3102, Champ-Faudin 8, habita-\\ntion d\\'une surface de 86 m?, jardin, cour d\\'une surface de\\n366 m?\\n\\nRealisation des actifs:\\n\\nL’administration de la faillite se considere autorisee A\\nvendre de gre A gre ou ä mettre de suite aux encheres, tous\\nles actifs mobiliers et immobiliers du failli, en bloc ou sepa-\\nrement, pour autant que la majorit& des cr&anciers ne s\\'y\\n.oppose pas par &crit, dans le delai fixe pour les productions.\\nLesilence de ces derniers &quivaut A une approbation.\\nLes eventuelles revendications de propriet€ doivent &tre an-\\nnonces dans le m&me delai.\\nselon l\\'art. 256 al. 3 LP, les biens de valeur elevee et les im-\\nmeubles ne sont ralises de gr& ä gr& que si l\\'occasion a &te\\ndonnee aux cr&anciers de formuler des offres sup&rieures.\\nLes cr&anciers qui demandent que les offres soient portdes A\\nleur connaissance parce qu\\'ils d6sirent d&poser une offre su-\\np£rieure doivent s\\'annoncer dans le delai de production ä\\nl\\'office des faillites. Sinon, l’office des faillites prend note\\nqu\\'ils renoncent & ce droit et qu\\'il est autorise A proceder a\\nune eventuelle vente de gre & gr& sur la base de la meilleure\\noffre.\\n\\nLes cr&ances produites doivent tre chiffrdes en capital, inte-\\nröts et frais au 06 novembre 2014 par les cr&anciers, en joig-\\nnant des piöces justificatives. TI est absolument necessaire de\\n‚nous indiquer sur quel compte un &ventuel dividende dev-\\nrait &tre verse (CCP, compte bancaire et no de compte per-\\nsonnel).\\n\\napp»\\n\\nOffice des poursuites et des faillites du Jura bernois\\n2740 Moutier\\n\\n01909133\\n\\nDebiteur/debitrice: Rafuna Driton, mecapraticien, de Mou-\\ntier, ne(e) le 15.05.1987, Rue du Moulin 2A, 2740 Moutier\\nDeclaration de faillite: 09.12.2014\\n\\nProcedure: sommaire\\n\\nDelai de production: 08.02.2015\\n\\nRemarques: Inscrit au Registre du commerce sous la raison\\nindividuelle Drit-Bar D. Rafuna\\n\\nOffice des poursuites et des faillites du Jura bernois,\\n\\n2740 Moutier\\n01900161\\n\\nzu pp\\n\\n1. Schuldner/in: Atalay Ramazan, Fabrikmitarbeiter, Staats-\\nbürgerschaft: Türkei, geboren 10.08.1978, Fellerstrasse 50/\\nB5, 3027 Bern\\n\\n2. Konkurseröffnung: 09.12.2014\\n\\n3. Verfahren: summarisch\\nEingabefrist für Forderungen: 08.02.2015\\nKonkursamt Bern-Mittelland, Dienststelle Mittelland\\n3071 Ostermundigen Zust\\n\\n01886607\\n\\n1. Schuldner/in: Balmer Thomas, Lüftungshygieniker, von\\nAuswil BE, geboren 21.01.1983, Moosgärtenweg 10,\\n3177 Laupen BE\\n\\n2. Konkurseröffnung: 11.11.2014\\n\\n3. Verfahren: summarisch\\nEingabefrist für Forderungen: 08.02.2015\\nKonkursamt Bern-Mittelland, Dienststelle Mittelland\\n3071 Ostermundigen Zust\\n\\n01842237\\n\\n39\\n\\n1. Schuldner/in: Brönnimann Mwadzimenza Therese, Pfle-\\ngeassistentin, von Siselen BE und Wald BE, geboren\\n16.02.1957, Feldeggstrasse 13, 3322 Schönbühl\\n\\n2. Konkurseröffnung: 27.11.2014\\n\\n3. Verfahren: summarisch\\n\\n4. Eingabefrist für Forderungen: 08.02.2015\\nKonkursamt Bern-Mittelland, Dienststelle Mittelland\\n3071 Ostermundigen Zust\\n\\n01863751\\n\\n1. Schuldner/in: Celiker Bülent, Lüftungstechniker, Staats-\\nbürgerschaft: Türkei, geboren 03.10.1978, Looslistrasse 60/1,\\n3027 Bern\\n\\n2. Konkurseröffnung: 17.11.2014\\n\\n3. Verfahren: summarisch\\n\\n4. Eingabefrist für Forderungen: 08.02.2015\\nKonkursamt Bern-Mittelland, Dienststelle Mittelland\\n3071 Ostermundigen Zust\\n\\n01860957\\n\\n1. Schuldner/in: Egli (-Rüegsegger) Bertha, ausgeschla-\\ngene Verlassenschaft, von Schangau BE, geboren\\n02.04.1929, gestorben 27.08.2014, 3512 Walkringen\\nKonkurseröffnung: 02.12.2014\\n\\nVerfahren: summarisch\\n\\nEingabefrist für Forderungen: 08.02.2015\\nBemerkungen: mit Aufenthalt im Wohn- und Pflegeheim\\nUtzigen, Wuhlstrasse 110, 3068 Utzigen\\n\\nKonkursamt Bern-Mittelland, Dienststelle Mittelland\\n3071 Ostermundigen Zust\\n\\n01877717\\n\\nnun\\n\\n1. Schuldner/in: Fischer Michel, Storenmonteur, von Lü-\\nscherz BE, geboren 02.07.1988, Schwarzenburgstrasse 65,\\n3008 Bern\\nKonkurseröffnung: 19.11.2014\\n3. Verfahren: summarisch\\n4. Eingabefrist für Forderungen: 08.02.2015\\nKonkursamt Bern-Mittelland, Dienststelle Mittelland\\n3071 Ostermundigen Zust\\n01861075\\n\\n[24\\n\\n1. Schuldner/in: Gyger Beat, Automonteur, von Eriz BE, gebo-\\nren 16.08.1967, Grauholzstrasse 3, 3063 Ittigen\\n2. Konkurseröffnung: 27.11.2014\\n\\n3. Verfahren: summarisch\\n\\n4. Eingabefrist für Forderungen: 08.02.2015\\nKonkursamt Bern-Mittelland, Dienststelle Mittelland\\n3071 Ostermundigen Zust\\n\\n01874563\\n\\n1. Schuldner/in: Hofer (-Marthaler) Barbara, Pflegehelferin\\nSRK, von Niederhasli ZH und Fehren SO, geboren\\n20.06.1971, Holzgasse 23, 3322 Urtenen-Schönbühl\\nKonkurseröffnung: 27.11.2014\\n\\nVerfahren: summarisch\\n\\nEingabefrist für Forderungen: 08.02.2015\\n\\nBemerkungen: neue Adresse ab 01.12.2014: Oberholz 7,\\n3054 Schüpfen\\n\\nKonkursamt Bern-Mittelland, Dienststelle Mittelland\\n\\n3071 Ostermundigen Zust\\n\\n01874513\\n\\nnpMmN\\n\\nSchuldner/in: Michel Andreas, von Bern BE, geboren\\n22.09.1956, Kappelenring 18a, 3032 Hinterkappelen\\nKonkurseröffnung: 04.11.2014\\n\\n3. Verfahren: summarisch\\n\\n4. Eingabefrist für Forderungen: 08.02.2015\\nKonkursamt Bern-Mittelland, Dienststelle Mittelland\\n3071 Ostermundigen Zust\\n\\n01860947\\n\\n1. Schuldner/in: Michel (-Härri) Monika Theresia, Verkäufe-\\nrin, von Bern BE, geboren 18.07.1956, Kappelenring 18a,\\n3032 Hinterkappelen\\nKonkurseröffnung: 04.11.2014\\nVerfahren: summarisch\\n4. Eingabefrist für Forderungen: 08.02.2015\\nKonkursamt Bern-Mittelland, Dienststelle Mittelland\\n3071 Ostermundigen Zust\\n01860941\\n\\nsn\\n\\n1. Schuldner/in: Namat Bakar Miran, ausgeschlagene Ver-\\nlassenschaft, Staatsbürgerschaft: Türkei, geboren\\n01.01.1940, gestorben 06.09.2014, whft. gew. Kappelenring\\n1B, 3032 Hinterkappelen\\n\\n2. Konkurseröffnung: 21.11.2014\\n\\n3. Verfahren: summarisch\\n\\n4. Eingabefrist für Forderungen: 08.02.2015\\nKonkursamt Bern-Mittelland, Dienststelle Mittelland\\n3071 Ostermundigen Zust\\n\\n01874573\\n\\n1. Schuldner/in: Nithiyananthan Suppiah, Verkäufer, von\\nBern, geboren 22.08.1958, Freiburgstrasse 511 E,3018 Bern\\n2. Konkurseröffnung: 12.11.2014\\n3. Verfahren: summarisch\\n4. Eingabefrist für Forderungen: 08.02.2015\\nKonkursamt Bern-Mittelland, Dienststelle Mittelland\\n3071 Ostermundigen Zust\\n01866635\\n'"
      ]
     },
     "execution_count": 28,
     "metadata": {},
     "output_type": "execute_result"
    }
   ],
   "source": [
    "test"
   ]
  },
  {
   "cell_type": "code",
   "execution_count": 4,
   "metadata": {},
   "outputs": [],
   "source": [
    "ocr_texts = []\n",
    "for i in range(1, len(pages)):\n",
    "    text = pytesseract.image_to_string(pages[i], lang='deu').split('\\n\\n', 1)[-1]\n",
    "    ocr_texts.append(re.search(r\"Registro di commercio\\s+(.*?)(\\n\\n\\[U \\}\\nRedaktion/Verlag)\", text, re.DOTALL).group(1) if i == 1 else text)\n",
    "\n",
    "full_text = ''.join(ocr_texts)"
   ]
  },
  {
   "cell_type": "code",
   "execution_count": 21,
   "metadata": {},
   "outputs": [
    {
     "name": "stdout",
     "output_type": "stream",
     "text": [
      "[(860821, 860839), (867622, 867640)]\n"
     ]
    }
   ],
   "source": [
    "print([m.span() for m in re.finditer(\"Westcom AG, in Zug\", full_text)])"
   ]
  },
  {
   "cell_type": "code",
   "execution_count": null,
   "metadata": {},
   "outputs": [],
   "source": [
    "separators = {\n",
    "    \"Neueintragungen\\nNouvelles inscriptions\\nNuove iscrizioni\": 'new_inscriptions',\n",
    "    \"Mutationen\\nMutations\\nMutazioni\": 'mutations',\n",
    "    \"Löschungen\\nRadiations\\nCancellazioni\": 'deletions',\n",
    "}\n",
    "\n",
    "slices = [m.span() for m in re.finditer('|'.join(separators.keys()), full_text)]\n",
    "\n",
    "text_slices = {'new_inscriptions': [], 'mutations': [], 'deletions': []}\n",
    "for i in range(len(slices)-1):\n",
    "\n",
    "    slice_i = slices[i]\n",
    "    slice_j = slices[i+1]\n",
    "\n",
    "    keyword = full_text[slice_i[0]:slice_i[1]]\n",
    "    \n",
    "    if i == len(slices) - 1:\n",
    "        text_slices[separators.get(keyword)].append(full_text[slice_i[1]:])\n",
    "    else:\n",
    "        text_slices[separators.get(keyword)].append(full_text[slice_i[1]:slice_j[0]])"
   ]
  },
  {
   "cell_type": "code",
   "execution_count": null,
   "metadata": {},
   "outputs": [],
   "source": [
    "new_inscriptions = []\n",
    "for text in text_slices['new_inscriptions']:\n",
    "    entries = re.split(r'Tagesregister-Nr', text)\n",
    "    cleaned_entries = [entry.split('= ', 1) for entry in entries]\n",
    "    new_inscriptions.extend([entry[1] for entry in cleaned_entries if len(entry) == 2])\n",
    "\n",
    "mutations = []\n",
    "for text in text_slices['mutations']:\n",
    "    entries = re.split(r'Tagesregister-Nr', text)  \n",
    "    cleaned_entries = [entry.split('= ', 1) for entry in entries]\n",
    "    mutations.extend([entry[1] for entry in cleaned_entries if len(entry) == 2])\n",
    "\n",
    "deletions = []\n",
    "for text in text_slices['deletions']:\n",
    "    entries = re.split(r'Tagesregister-Nr', text)  \n",
    "    cleaned_entries = [entry.split('= ', 1) for entry in entries]\n",
    "    deletions.extend([entry[1] for entry in cleaned_entries if len(entry) == 2])"
   ]
  },
  {
   "cell_type": "code",
   "execution_count": null,
   "metadata": {},
   "outputs": [],
   "source": [
    "new_inscriptions"
   ]
  }
 ],
 "metadata": {
  "kernelspec": {
   "display_name": ".venv",
   "language": "python",
   "name": "python3"
  },
  "language_info": {
   "codemirror_mode": {
    "name": "ipython",
    "version": 3
   },
   "file_extension": ".py",
   "mimetype": "text/x-python",
   "name": "python",
   "nbconvert_exporter": "python",
   "pygments_lexer": "ipython3",
   "version": "3.12.9"
  }
 },
 "nbformat": 4,
 "nbformat_minor": 2
}
